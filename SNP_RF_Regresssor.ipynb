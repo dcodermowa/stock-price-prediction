{
 "cells": [
  {
   "cell_type": "code",
   "execution_count": 1,
   "metadata": {},
   "outputs": [],
   "source": [
    "#Standard libraries\n",
    "import pandas as pd\n",
    "import seaborn as sns\n",
    "import numpy as np\n",
    "import matplotlib.pyplot as plt\n",
    "import time \n",
    "\n",
    "# library for sampling\n",
    "from scipy.stats import uniform\n",
    "\n",
    "# libraries for Data Download\n",
    "import datetime\n",
    "from pandas_datareader import data as pdr\n",
    "import fix_yahoo_finance as yf\n",
    "\n",
    "# sklearn\n",
    "from sklearn.pipeline import Pipeline\n",
    "from sklearn.preprocessing import StandardScaler\n",
    "from sklearn.preprocessing import MinMaxScaler\n",
    "from sklearn.model_selection import TimeSeriesSplit\n",
    "from sklearn.model_selection import RandomizedSearchCV\n",
    "from sklearn.model_selection import GridSearchCV\n",
    "from sklearn import metrics\n",
    "from sklearn.metrics import make_scorer\n",
    "from sklearn.metrics import accuracy_score\n",
    "from sklearn.model_selection import train_test_split\n",
    "from sklearn import linear_model\n",
    "from sklearn.metrics import mean_squared_error\n",
    "from sklearn.metrics import mean_absolute_error\n",
    "\n",
    "# Keras\n",
    "import keras\n",
    "from keras.models import Sequential\n",
    "from keras.layers import LSTM\n",
    "from keras.layers import Dense\n",
    "from keras.layers import Dropout\n",
    "from keras.wrappers.scikit_learn import KerasClassifier"
   ]
  },
  {
   "cell_type": "code",
   "execution_count": 2,
   "metadata": {
    "scrolled": true
   },
   "outputs": [
    {
     "data": {
      "text/html": [
       "<div>\n",
       "<style scoped>\n",
       "    .dataframe tbody tr th:only-of-type {\n",
       "        vertical-align: middle;\n",
       "    }\n",
       "\n",
       "    .dataframe tbody tr th {\n",
       "        vertical-align: top;\n",
       "    }\n",
       "\n",
       "    .dataframe thead th {\n",
       "        text-align: right;\n",
       "    }\n",
       "</style>\n",
       "<table border=\"1\" class=\"dataframe\">\n",
       "  <thead>\n",
       "    <tr style=\"text-align: right;\">\n",
       "      <th></th>\n",
       "      <th>Unnamed: 0</th>\n",
       "      <th>Date</th>\n",
       "      <th>Open</th>\n",
       "      <th>High</th>\n",
       "      <th>Low</th>\n",
       "      <th>Close</th>\n",
       "      <th>Adj Close</th>\n",
       "      <th>Volume</th>\n",
       "      <th>volume_adi</th>\n",
       "      <th>volume_obv</th>\n",
       "      <th>...</th>\n",
       "      <th>momentum_wr</th>\n",
       "      <th>momentum_ao</th>\n",
       "      <th>momentum_kama</th>\n",
       "      <th>momentum_roc</th>\n",
       "      <th>momentum_ppo</th>\n",
       "      <th>momentum_ppo_signal</th>\n",
       "      <th>momentum_ppo_hist</th>\n",
       "      <th>others_dr</th>\n",
       "      <th>others_dlr</th>\n",
       "      <th>others_cr</th>\n",
       "    </tr>\n",
       "  </thead>\n",
       "  <tbody>\n",
       "    <tr>\n",
       "      <th>0</th>\n",
       "      <td>0</td>\n",
       "      <td>2000-02-15</td>\n",
       "      <td>1389.939941</td>\n",
       "      <td>1407.719971</td>\n",
       "      <td>1376.250000</td>\n",
       "      <td>1402.050049</td>\n",
       "      <td>1402.050049</td>\n",
       "      <td>1.092100e+09</td>\n",
       "      <td>6.985743e+08</td>\n",
       "      <td>1.092100e+09</td>\n",
       "      <td>...</td>\n",
       "      <td>-31.857585</td>\n",
       "      <td>12.690881</td>\n",
       "      <td>1385.212323</td>\n",
       "      <td>0.713122</td>\n",
       "      <td>-0.030033</td>\n",
       "      <td>-0.003024</td>\n",
       "      <td>-0.046099</td>\n",
       "      <td>-15.888425</td>\n",
       "      <td>0.060550</td>\n",
       "      <td>0.000000</td>\n",
       "    </tr>\n",
       "    <tr>\n",
       "      <th>1</th>\n",
       "      <td>1</td>\n",
       "      <td>2000-02-16</td>\n",
       "      <td>1402.050049</td>\n",
       "      <td>1404.550049</td>\n",
       "      <td>1385.579956</td>\n",
       "      <td>1387.670044</td>\n",
       "      <td>1387.670044</td>\n",
       "      <td>1.018800e+09</td>\n",
       "      <td>-9.572693e+07</td>\n",
       "      <td>7.330000e+07</td>\n",
       "      <td>...</td>\n",
       "      <td>-31.857585</td>\n",
       "      <td>12.690881</td>\n",
       "      <td>1385.212323</td>\n",
       "      <td>0.713122</td>\n",
       "      <td>-0.030033</td>\n",
       "      <td>-0.003024</td>\n",
       "      <td>-0.046099</td>\n",
       "      <td>-1.025641</td>\n",
       "      <td>-1.030937</td>\n",
       "      <td>-1.025641</td>\n",
       "    </tr>\n",
       "    <tr>\n",
       "      <th>2</th>\n",
       "      <td>2</td>\n",
       "      <td>2000-02-17</td>\n",
       "      <td>1387.670044</td>\n",
       "      <td>1399.880005</td>\n",
       "      <td>1380.069946</td>\n",
       "      <td>1388.260010</td>\n",
       "      <td>1388.260010</td>\n",
       "      <td>1.034800e+09</td>\n",
       "      <td>-2.748931e+08</td>\n",
       "      <td>1.108100e+09</td>\n",
       "      <td>...</td>\n",
       "      <td>-31.857585</td>\n",
       "      <td>12.690881</td>\n",
       "      <td>1385.212323</td>\n",
       "      <td>0.713122</td>\n",
       "      <td>-0.030033</td>\n",
       "      <td>-0.003024</td>\n",
       "      <td>-0.046099</td>\n",
       "      <td>0.042515</td>\n",
       "      <td>0.042506</td>\n",
       "      <td>-0.983563</td>\n",
       "    </tr>\n",
       "    <tr>\n",
       "      <th>3</th>\n",
       "      <td>3</td>\n",
       "      <td>2000-02-18</td>\n",
       "      <td>1388.260010</td>\n",
       "      <td>1388.589966</td>\n",
       "      <td>1345.319946</td>\n",
       "      <td>1346.089966</td>\n",
       "      <td>1346.089966</td>\n",
       "      <td>1.042300e+09</td>\n",
       "      <td>-1.280096e+09</td>\n",
       "      <td>6.580000e+07</td>\n",
       "      <td>...</td>\n",
       "      <td>-31.857585</td>\n",
       "      <td>12.690881</td>\n",
       "      <td>1385.212323</td>\n",
       "      <td>0.713122</td>\n",
       "      <td>-0.030033</td>\n",
       "      <td>-0.003024</td>\n",
       "      <td>-0.046099</td>\n",
       "      <td>-3.037619</td>\n",
       "      <td>-3.084710</td>\n",
       "      <td>-3.991304</td>\n",
       "    </tr>\n",
       "    <tr>\n",
       "      <th>4</th>\n",
       "      <td>4</td>\n",
       "      <td>2000-02-22</td>\n",
       "      <td>1346.089966</td>\n",
       "      <td>1358.109985</td>\n",
       "      <td>1331.880005</td>\n",
       "      <td>1352.170044</td>\n",
       "      <td>1352.170044</td>\n",
       "      <td>9.800000e+08</td>\n",
       "      <td>-7.439503e+08</td>\n",
       "      <td>1.045800e+09</td>\n",
       "      <td>...</td>\n",
       "      <td>-31.857585</td>\n",
       "      <td>12.690881</td>\n",
       "      <td>1385.212323</td>\n",
       "      <td>0.713122</td>\n",
       "      <td>-0.030033</td>\n",
       "      <td>-0.003024</td>\n",
       "      <td>-0.046099</td>\n",
       "      <td>0.451684</td>\n",
       "      <td>0.450667</td>\n",
       "      <td>-3.557648</td>\n",
       "    </tr>\n",
       "  </tbody>\n",
       "</table>\n",
       "<p>5 rows × 91 columns</p>\n",
       "</div>"
      ],
      "text/plain": [
       "   Unnamed: 0        Date         Open         High          Low        Close  \\\n",
       "0           0  2000-02-15  1389.939941  1407.719971  1376.250000  1402.050049   \n",
       "1           1  2000-02-16  1402.050049  1404.550049  1385.579956  1387.670044   \n",
       "2           2  2000-02-17  1387.670044  1399.880005  1380.069946  1388.260010   \n",
       "3           3  2000-02-18  1388.260010  1388.589966  1345.319946  1346.089966   \n",
       "4           4  2000-02-22  1346.089966  1358.109985  1331.880005  1352.170044   \n",
       "\n",
       "     Adj Close        Volume    volume_adi    volume_obv  ...  momentum_wr  \\\n",
       "0  1402.050049  1.092100e+09  6.985743e+08  1.092100e+09  ...   -31.857585   \n",
       "1  1387.670044  1.018800e+09 -9.572693e+07  7.330000e+07  ...   -31.857585   \n",
       "2  1388.260010  1.034800e+09 -2.748931e+08  1.108100e+09  ...   -31.857585   \n",
       "3  1346.089966  1.042300e+09 -1.280096e+09  6.580000e+07  ...   -31.857585   \n",
       "4  1352.170044  9.800000e+08 -7.439503e+08  1.045800e+09  ...   -31.857585   \n",
       "\n",
       "   momentum_ao  momentum_kama  momentum_roc  momentum_ppo  \\\n",
       "0    12.690881    1385.212323      0.713122     -0.030033   \n",
       "1    12.690881    1385.212323      0.713122     -0.030033   \n",
       "2    12.690881    1385.212323      0.713122     -0.030033   \n",
       "3    12.690881    1385.212323      0.713122     -0.030033   \n",
       "4    12.690881    1385.212323      0.713122     -0.030033   \n",
       "\n",
       "   momentum_ppo_signal  momentum_ppo_hist  others_dr  others_dlr  others_cr  \n",
       "0            -0.003024          -0.046099 -15.888425    0.060550   0.000000  \n",
       "1            -0.003024          -0.046099  -1.025641   -1.030937  -1.025641  \n",
       "2            -0.003024          -0.046099   0.042515    0.042506  -0.983563  \n",
       "3            -0.003024          -0.046099  -3.037619   -3.084710  -3.991304  \n",
       "4            -0.003024          -0.046099   0.451684    0.450667  -3.557648  \n",
       "\n",
       "[5 rows x 91 columns]"
      ]
     },
     "execution_count": 2,
     "metadata": {},
     "output_type": "execute_result"
    }
   ],
   "source": [
    "#importing dataset with all the technical indicators\n",
    "df = pd.read_csv('data_with_technical_indicators.csv')\n",
    "df.head()"
   ]
  },
  {
   "cell_type": "code",
   "execution_count": 3,
   "metadata": {},
   "outputs": [
    {
     "data": {
      "text/html": [
       "<div>\n",
       "<style scoped>\n",
       "    .dataframe tbody tr th:only-of-type {\n",
       "        vertical-align: middle;\n",
       "    }\n",
       "\n",
       "    .dataframe tbody tr th {\n",
       "        vertical-align: top;\n",
       "    }\n",
       "\n",
       "    .dataframe thead th {\n",
       "        text-align: right;\n",
       "    }\n",
       "</style>\n",
       "<table border=\"1\" class=\"dataframe\">\n",
       "  <thead>\n",
       "    <tr style=\"text-align: right;\">\n",
       "      <th></th>\n",
       "      <th>Unnamed: 0</th>\n",
       "      <th>Open</th>\n",
       "      <th>High</th>\n",
       "      <th>Low</th>\n",
       "      <th>Close</th>\n",
       "      <th>Adj Close</th>\n",
       "      <th>Volume</th>\n",
       "      <th>volume_adi</th>\n",
       "      <th>volume_obv</th>\n",
       "      <th>volume_cmf</th>\n",
       "      <th>...</th>\n",
       "      <th>momentum_wr</th>\n",
       "      <th>momentum_ao</th>\n",
       "      <th>momentum_kama</th>\n",
       "      <th>momentum_roc</th>\n",
       "      <th>momentum_ppo</th>\n",
       "      <th>momentum_ppo_signal</th>\n",
       "      <th>momentum_ppo_hist</th>\n",
       "      <th>others_dr</th>\n",
       "      <th>others_dlr</th>\n",
       "      <th>others_cr</th>\n",
       "    </tr>\n",
       "  </thead>\n",
       "  <tbody>\n",
       "    <tr>\n",
       "      <th>count</th>\n",
       "      <td>5283.000000</td>\n",
       "      <td>5283.000000</td>\n",
       "      <td>5283.000000</td>\n",
       "      <td>5283.000000</td>\n",
       "      <td>5283.000000</td>\n",
       "      <td>5283.000000</td>\n",
       "      <td>5.283000e+03</td>\n",
       "      <td>5.283000e+03</td>\n",
       "      <td>5.283000e+03</td>\n",
       "      <td>5283.000000</td>\n",
       "      <td>...</td>\n",
       "      <td>5283.000000</td>\n",
       "      <td>5283.000000</td>\n",
       "      <td>5283.000000</td>\n",
       "      <td>5283.000000</td>\n",
       "      <td>5283.000000</td>\n",
       "      <td>5283.000000</td>\n",
       "      <td>5283.000000</td>\n",
       "      <td>5283.000000</td>\n",
       "      <td>5283.000000</td>\n",
       "      <td>5283.000000</td>\n",
       "    </tr>\n",
       "    <tr>\n",
       "      <th>mean</th>\n",
       "      <td>2641.000000</td>\n",
       "      <td>1666.681824</td>\n",
       "      <td>1676.365469</td>\n",
       "      <td>1656.182166</td>\n",
       "      <td>1666.893109</td>\n",
       "      <td>1666.893109</td>\n",
       "      <td>3.202886e+09</td>\n",
       "      <td>6.403624e+11</td>\n",
       "      <td>4.499630e+11</td>\n",
       "      <td>0.096868</td>\n",
       "      <td>...</td>\n",
       "      <td>-38.975346</td>\n",
       "      <td>6.634421</td>\n",
       "      <td>1664.113587</td>\n",
       "      <td>0.306979</td>\n",
       "      <td>0.045246</td>\n",
       "      <td>0.045275</td>\n",
       "      <td>0.001657</td>\n",
       "      <td>0.024358</td>\n",
       "      <td>0.019545</td>\n",
       "      <td>18.889701</td>\n",
       "    </tr>\n",
       "    <tr>\n",
       "      <th>std</th>\n",
       "      <td>1525.215067</td>\n",
       "      <td>692.874875</td>\n",
       "      <td>695.149650</td>\n",
       "      <td>690.326403</td>\n",
       "      <td>693.007323</td>\n",
       "      <td>693.007323</td>\n",
       "      <td>1.520962e+09</td>\n",
       "      <td>5.806683e+11</td>\n",
       "      <td>4.053832e+11</td>\n",
       "      <td>0.158231</td>\n",
       "      <td>...</td>\n",
       "      <td>31.418318</td>\n",
       "      <td>53.385597</td>\n",
       "      <td>688.621473</td>\n",
       "      <td>3.678498</td>\n",
       "      <td>4.254838</td>\n",
       "      <td>3.477009</td>\n",
       "      <td>2.192509</td>\n",
       "      <td>1.269338</td>\n",
       "      <td>1.252377</td>\n",
       "      <td>49.428144</td>\n",
       "    </tr>\n",
       "    <tr>\n",
       "      <th>min</th>\n",
       "      <td>0.000000</td>\n",
       "      <td>679.280029</td>\n",
       "      <td>695.270020</td>\n",
       "      <td>666.789978</td>\n",
       "      <td>676.530029</td>\n",
       "      <td>676.530029</td>\n",
       "      <td>3.560700e+08</td>\n",
       "      <td>-9.059144e+09</td>\n",
       "      <td>-6.618743e+10</td>\n",
       "      <td>-0.361312</td>\n",
       "      <td>...</td>\n",
       "      <td>-100.000000</td>\n",
       "      <td>-634.264448</td>\n",
       "      <td>722.852625</td>\n",
       "      <td>-26.363212</td>\n",
       "      <td>-27.036779</td>\n",
       "      <td>-19.384396</td>\n",
       "      <td>-10.994445</td>\n",
       "      <td>-15.888425</td>\n",
       "      <td>-12.765220</td>\n",
       "      <td>-51.747084</td>\n",
       "    </tr>\n",
       "    <tr>\n",
       "      <th>25%</th>\n",
       "      <td>1320.500000</td>\n",
       "      <td>1163.534973</td>\n",
       "      <td>1172.744995</td>\n",
       "      <td>1154.779968</td>\n",
       "      <td>1163.349976</td>\n",
       "      <td>1163.349976</td>\n",
       "      <td>1.800145e+09</td>\n",
       "      <td>7.489394e+10</td>\n",
       "      <td>2.528582e+10</td>\n",
       "      <td>-0.015339</td>\n",
       "      <td>...</td>\n",
       "      <td>-66.652459</td>\n",
       "      <td>-15.263786</td>\n",
       "      <td>1168.168171</td>\n",
       "      <td>-1.352110</td>\n",
       "      <td>-2.366536</td>\n",
       "      <td>-2.045640</td>\n",
       "      <td>-1.261917</td>\n",
       "      <td>-0.473077</td>\n",
       "      <td>-0.473490</td>\n",
       "      <td>-17.025075</td>\n",
       "    </tr>\n",
       "    <tr>\n",
       "      <th>50%</th>\n",
       "      <td>2641.000000</td>\n",
       "      <td>1386.949951</td>\n",
       "      <td>1396.130005</td>\n",
       "      <td>1376.250000</td>\n",
       "      <td>1387.020020</td>\n",
       "      <td>1387.020020</td>\n",
       "      <td>3.301270e+09</td>\n",
       "      <td>4.978695e+11</td>\n",
       "      <td>3.744913e+11</td>\n",
       "      <td>0.084672</td>\n",
       "      <td>...</td>\n",
       "      <td>-31.857585</td>\n",
       "      <td>12.690881</td>\n",
       "      <td>1385.212323</td>\n",
       "      <td>0.713122</td>\n",
       "      <td>-0.030033</td>\n",
       "      <td>-0.003024</td>\n",
       "      <td>-0.046099</td>\n",
       "      <td>0.060262</td>\n",
       "      <td>0.060550</td>\n",
       "      <td>-1.072004</td>\n",
       "    </tr>\n",
       "    <tr>\n",
       "      <th>75%</th>\n",
       "      <td>3961.500000</td>\n",
       "      <td>2079.515014</td>\n",
       "      <td>2087.275024</td>\n",
       "      <td>2068.665039</td>\n",
       "      <td>2079.630004</td>\n",
       "      <td>2079.630004</td>\n",
       "      <td>4.034955e+09</td>\n",
       "      <td>1.141061e+12</td>\n",
       "      <td>8.143255e+11</td>\n",
       "      <td>0.203111</td>\n",
       "      <td>...</td>\n",
       "      <td>-9.972701</td>\n",
       "      <td>32.979248</td>\n",
       "      <td>2075.190741</td>\n",
       "      <td>2.304401</td>\n",
       "      <td>2.427669</td>\n",
       "      <td>1.960376</td>\n",
       "      <td>1.267442</td>\n",
       "      <td>0.581900</td>\n",
       "      <td>0.580213</td>\n",
       "      <td>48.327801</td>\n",
       "    </tr>\n",
       "    <tr>\n",
       "      <th>max</th>\n",
       "      <td>5282.000000</td>\n",
       "      <td>3920.780029</td>\n",
       "      <td>3937.229980</td>\n",
       "      <td>3905.780029</td>\n",
       "      <td>3934.830078</td>\n",
       "      <td>3934.830078</td>\n",
       "      <td>1.145623e+10</td>\n",
       "      <td>1.779247e+12</td>\n",
       "      <td>1.293432e+12</td>\n",
       "      <td>0.600581</td>\n",
       "      <td>...</td>\n",
       "      <td>-0.000000</td>\n",
       "      <td>235.030289</td>\n",
       "      <td>3863.072297</td>\n",
       "      <td>22.909632</td>\n",
       "      <td>19.621538</td>\n",
       "      <td>16.148838</td>\n",
       "      <td>10.826217</td>\n",
       "      <td>11.580037</td>\n",
       "      <td>10.957197</td>\n",
       "      <td>180.648332</td>\n",
       "    </tr>\n",
       "  </tbody>\n",
       "</table>\n",
       "<p>8 rows × 90 columns</p>\n",
       "</div>"
      ],
      "text/plain": [
       "        Unnamed: 0         Open         High          Low        Close  \\\n",
       "count  5283.000000  5283.000000  5283.000000  5283.000000  5283.000000   \n",
       "mean   2641.000000  1666.681824  1676.365469  1656.182166  1666.893109   \n",
       "std    1525.215067   692.874875   695.149650   690.326403   693.007323   \n",
       "min       0.000000   679.280029   695.270020   666.789978   676.530029   \n",
       "25%    1320.500000  1163.534973  1172.744995  1154.779968  1163.349976   \n",
       "50%    2641.000000  1386.949951  1396.130005  1376.250000  1387.020020   \n",
       "75%    3961.500000  2079.515014  2087.275024  2068.665039  2079.630004   \n",
       "max    5282.000000  3920.780029  3937.229980  3905.780029  3934.830078   \n",
       "\n",
       "         Adj Close        Volume    volume_adi    volume_obv   volume_cmf  \\\n",
       "count  5283.000000  5.283000e+03  5.283000e+03  5.283000e+03  5283.000000   \n",
       "mean   1666.893109  3.202886e+09  6.403624e+11  4.499630e+11     0.096868   \n",
       "std     693.007323  1.520962e+09  5.806683e+11  4.053832e+11     0.158231   \n",
       "min     676.530029  3.560700e+08 -9.059144e+09 -6.618743e+10    -0.361312   \n",
       "25%    1163.349976  1.800145e+09  7.489394e+10  2.528582e+10    -0.015339   \n",
       "50%    1387.020020  3.301270e+09  4.978695e+11  3.744913e+11     0.084672   \n",
       "75%    2079.630004  4.034955e+09  1.141061e+12  8.143255e+11     0.203111   \n",
       "max    3934.830078  1.145623e+10  1.779247e+12  1.293432e+12     0.600581   \n",
       "\n",
       "       ...  momentum_wr  momentum_ao  momentum_kama  momentum_roc  \\\n",
       "count  ...  5283.000000  5283.000000    5283.000000   5283.000000   \n",
       "mean   ...   -38.975346     6.634421    1664.113587      0.306979   \n",
       "std    ...    31.418318    53.385597     688.621473      3.678498   \n",
       "min    ...  -100.000000  -634.264448     722.852625    -26.363212   \n",
       "25%    ...   -66.652459   -15.263786    1168.168171     -1.352110   \n",
       "50%    ...   -31.857585    12.690881    1385.212323      0.713122   \n",
       "75%    ...    -9.972701    32.979248    2075.190741      2.304401   \n",
       "max    ...    -0.000000   235.030289    3863.072297     22.909632   \n",
       "\n",
       "       momentum_ppo  momentum_ppo_signal  momentum_ppo_hist    others_dr  \\\n",
       "count   5283.000000          5283.000000        5283.000000  5283.000000   \n",
       "mean       0.045246             0.045275           0.001657     0.024358   \n",
       "std        4.254838             3.477009           2.192509     1.269338   \n",
       "min      -27.036779           -19.384396         -10.994445   -15.888425   \n",
       "25%       -2.366536            -2.045640          -1.261917    -0.473077   \n",
       "50%       -0.030033            -0.003024          -0.046099     0.060262   \n",
       "75%        2.427669             1.960376           1.267442     0.581900   \n",
       "max       19.621538            16.148838          10.826217    11.580037   \n",
       "\n",
       "        others_dlr    others_cr  \n",
       "count  5283.000000  5283.000000  \n",
       "mean      0.019545    18.889701  \n",
       "std       1.252377    49.428144  \n",
       "min     -12.765220   -51.747084  \n",
       "25%      -0.473490   -17.025075  \n",
       "50%       0.060550    -1.072004  \n",
       "75%       0.580213    48.327801  \n",
       "max      10.957197   180.648332  \n",
       "\n",
       "[8 rows x 90 columns]"
      ]
     },
     "execution_count": 3,
     "metadata": {},
     "output_type": "execute_result"
    }
   ],
   "source": [
    "df.describe()"
   ]
  },
  {
   "cell_type": "code",
   "execution_count": 4,
   "metadata": {},
   "outputs": [
    {
     "data": {
      "text/plain": [
       "Unnamed: 0             0\n",
       "Date                   0\n",
       "Open                   0\n",
       "High                   0\n",
       "Low                    0\n",
       "                      ..\n",
       "momentum_ppo_signal    0\n",
       "momentum_ppo_hist      0\n",
       "others_dr              0\n",
       "others_dlr             0\n",
       "others_cr              0\n",
       "Length: 91, dtype: int64"
      ]
     },
     "execution_count": 4,
     "metadata": {},
     "output_type": "execute_result"
    }
   ],
   "source": [
    "df.isnull().sum()"
   ]
  },
  {
   "cell_type": "code",
   "execution_count": 5,
   "metadata": {},
   "outputs": [
    {
     "name": "stdout",
     "output_type": "stream",
     "text": [
      "<class 'pandas.core.frame.DataFrame'>\n",
      "RangeIndex: 5283 entries, 0 to 5282\n",
      "Data columns (total 91 columns):\n",
      " #   Column                     Non-Null Count  Dtype  \n",
      "---  ------                     --------------  -----  \n",
      " 0   Unnamed: 0                 5283 non-null   int64  \n",
      " 1   Date                       5283 non-null   object \n",
      " 2   Open                       5283 non-null   float64\n",
      " 3   High                       5283 non-null   float64\n",
      " 4   Low                        5283 non-null   float64\n",
      " 5   Close                      5283 non-null   float64\n",
      " 6   Adj Close                  5283 non-null   float64\n",
      " 7   Volume                     5283 non-null   float64\n",
      " 8   volume_adi                 5283 non-null   float64\n",
      " 9   volume_obv                 5283 non-null   float64\n",
      " 10  volume_cmf                 5283 non-null   float64\n",
      " 11  volume_fi                  5283 non-null   float64\n",
      " 12  volume_mfi                 5283 non-null   float64\n",
      " 13  volume_em                  5283 non-null   float64\n",
      " 14  volume_sma_em              5283 non-null   float64\n",
      " 15  volume_vpt                 5283 non-null   float64\n",
      " 16  volume_nvi                 5283 non-null   float64\n",
      " 17  volume_vwap                5283 non-null   float64\n",
      " 18  volatility_atr             5283 non-null   float64\n",
      " 19  volatility_bbm             5283 non-null   float64\n",
      " 20  volatility_bbh             5283 non-null   float64\n",
      " 21  volatility_bbl             5283 non-null   float64\n",
      " 22  volatility_bbw             5283 non-null   float64\n",
      " 23  volatility_bbp             5283 non-null   float64\n",
      " 24  volatility_bbhi            5283 non-null   float64\n",
      " 25  volatility_bbli            5283 non-null   float64\n",
      " 26  volatility_kcc             5283 non-null   float64\n",
      " 27  volatility_kch             5283 non-null   float64\n",
      " 28  volatility_kcl             5283 non-null   float64\n",
      " 29  volatility_kcw             5283 non-null   float64\n",
      " 30  volatility_kcp             5283 non-null   float64\n",
      " 31  volatility_kchi            5283 non-null   float64\n",
      " 32  volatility_kcli            5283 non-null   float64\n",
      " 33  volatility_dcl             5283 non-null   float64\n",
      " 34  volatility_dch             5283 non-null   float64\n",
      " 35  volatility_dcm             5283 non-null   float64\n",
      " 36  volatility_dcw             5283 non-null   float64\n",
      " 37  volatility_dcp             5283 non-null   float64\n",
      " 38  volatility_ui              5283 non-null   float64\n",
      " 39  trend_macd                 5283 non-null   float64\n",
      " 40  trend_macd_signal          5283 non-null   float64\n",
      " 41  trend_macd_diff            5283 non-null   float64\n",
      " 42  trend_sma_fast             5283 non-null   float64\n",
      " 43  trend_sma_slow             5283 non-null   float64\n",
      " 44  trend_ema_fast             5283 non-null   float64\n",
      " 45  trend_ema_slow             5283 non-null   float64\n",
      " 46  trend_adx                  5283 non-null   float64\n",
      " 47  trend_adx_pos              5283 non-null   float64\n",
      " 48  trend_adx_neg              5283 non-null   float64\n",
      " 49  trend_vortex_ind_pos       5283 non-null   float64\n",
      " 50  trend_vortex_ind_neg       5283 non-null   float64\n",
      " 51  trend_vortex_ind_diff      5283 non-null   float64\n",
      " 52  trend_trix                 5283 non-null   float64\n",
      " 53  trend_mass_index           5283 non-null   float64\n",
      " 54  trend_cci                  5283 non-null   float64\n",
      " 55  trend_dpo                  5283 non-null   float64\n",
      " 56  trend_kst                  5283 non-null   float64\n",
      " 57  trend_kst_sig              5283 non-null   float64\n",
      " 58  trend_kst_diff             5283 non-null   float64\n",
      " 59  trend_ichimoku_conv        5283 non-null   float64\n",
      " 60  trend_ichimoku_base        5283 non-null   float64\n",
      " 61  trend_ichimoku_a           5283 non-null   float64\n",
      " 62  trend_ichimoku_b           5283 non-null   float64\n",
      " 63  trend_visual_ichimoku_a    5283 non-null   float64\n",
      " 64  trend_visual_ichimoku_b    5283 non-null   float64\n",
      " 65  trend_aroon_up             5283 non-null   float64\n",
      " 66  trend_aroon_down           5283 non-null   float64\n",
      " 67  trend_aroon_ind            5283 non-null   float64\n",
      " 68  trend_psar_up              5283 non-null   float64\n",
      " 69  trend_psar_down            5283 non-null   float64\n",
      " 70  trend_psar_up_indicator    5283 non-null   float64\n",
      " 71  trend_psar_down_indicator  5283 non-null   float64\n",
      " 72  trend_stc                  5283 non-null   float64\n",
      " 73  momentum_rsi               5283 non-null   float64\n",
      " 74  momentum_stoch_rsi         5283 non-null   float64\n",
      " 75  momentum_stoch_rsi_k       5283 non-null   float64\n",
      " 76  momentum_stoch_rsi_d       5283 non-null   float64\n",
      " 77  momentum_tsi               5283 non-null   float64\n",
      " 78  momentum_uo                5283 non-null   float64\n",
      " 79  momentum_stoch             5283 non-null   float64\n",
      " 80  momentum_stoch_signal      5283 non-null   float64\n",
      " 81  momentum_wr                5283 non-null   float64\n",
      " 82  momentum_ao                5283 non-null   float64\n",
      " 83  momentum_kama              5283 non-null   float64\n",
      " 84  momentum_roc               5283 non-null   float64\n",
      " 85  momentum_ppo               5283 non-null   float64\n",
      " 86  momentum_ppo_signal        5283 non-null   float64\n",
      " 87  momentum_ppo_hist          5283 non-null   float64\n",
      " 88  others_dr                  5283 non-null   float64\n",
      " 89  others_dlr                 5283 non-null   float64\n",
      " 90  others_cr                  5283 non-null   float64\n",
      "dtypes: float64(89), int64(1), object(1)\n",
      "memory usage: 3.7+ MB\n"
     ]
    }
   ],
   "source": [
    "df.info()"
   ]
  },
  {
   "cell_type": "code",
   "execution_count": 6,
   "metadata": {},
   "outputs": [],
   "source": [
    "df[\"Date\"] = pd.to_datetime(df[\"Date\"]).dt.strftime(\"%Y%m%d\")"
   ]
  },
  {
   "cell_type": "code",
   "execution_count": 7,
   "metadata": {},
   "outputs": [],
   "source": [
    "X = df.drop(['Close','Adj Close'], axis =1)"
   ]
  },
  {
   "cell_type": "code",
   "execution_count": 8,
   "metadata": {},
   "outputs": [],
   "source": [
    "y = df['Close']"
   ]
  },
  {
   "cell_type": "code",
   "execution_count": 9,
   "metadata": {},
   "outputs": [
    {
     "data": {
      "text/plain": [
       "(5283, 89)"
      ]
     },
     "execution_count": 9,
     "metadata": {},
     "output_type": "execute_result"
    }
   ],
   "source": [
    "X.shape"
   ]
  },
  {
   "cell_type": "code",
   "execution_count": 10,
   "metadata": {},
   "outputs": [
    {
     "data": {
      "text/plain": [
       "(5283,)"
      ]
     },
     "execution_count": 10,
     "metadata": {},
     "output_type": "execute_result"
    }
   ],
   "source": [
    "y.shape"
   ]
  },
  {
   "cell_type": "code",
   "execution_count": 11,
   "metadata": {},
   "outputs": [],
   "source": [
    "#splitting into 80-20\n",
    "X_train, X_test, y_train, y_test = train_test_split(X, y, test_size =0.2, random_state=361)"
   ]
  },
  {
   "cell_type": "code",
   "execution_count": 12,
   "metadata": {},
   "outputs": [],
   "source": [
    "# Feature Scaling\n",
    "from sklearn.preprocessing import StandardScaler\n",
    "scaler_X = StandardScaler()\n",
    "\n",
    "X_train = scaler_X.fit_transform(X_train)\n",
    "X_test = scaler_X.transform(X_test)\n",
    "\n"
   ]
  },
  {
   "cell_type": "markdown",
   "metadata": {},
   "source": [
    "# Random Forest Regressor"
   ]
  },
  {
   "cell_type": "code",
   "execution_count": 13,
   "metadata": {},
   "outputs": [],
   "source": [
    "from sklearn.ensemble import RandomForestRegressor"
   ]
  },
  {
   "cell_type": "code",
   "execution_count": 14,
   "metadata": {},
   "outputs": [
    {
     "data": {
      "text/plain": [
       "0.9999974741333948"
      ]
     },
     "execution_count": 14,
     "metadata": {},
     "output_type": "execute_result"
    }
   ],
   "source": [
    "model=RandomForestRegressor(n_estimators=100, max_depth=20, n_jobs=-1, warm_start=True)\n",
    "\n",
    "model.fit(X_train,y_train)\n",
    "\n",
    "y_pred=model.predict(X_test)\n",
    "\n",
    "model.score(X_train,y_train)"
   ]
  },
  {
   "cell_type": "code",
   "execution_count": 15,
   "metadata": {},
   "outputs": [
    {
     "name": "stdout",
     "output_type": "stream",
     "text": [
      "0.9695723220435121\n",
      "2.77579324307928\n"
     ]
    }
   ],
   "source": [
    "import sklearn.metrics as m\n",
    "\n",
    "mae=m.mean_absolute_error(y_test,y_pred)\n",
    "print(mae)\n",
    "\n",
    "mse=np.sqrt(m.mean_squared_error(y_test,y_pred))\n",
    "print(mse)"
   ]
  },
  {
   "cell_type": "code",
   "execution_count": 16,
   "metadata": {},
   "outputs": [
    {
     "data": {
      "image/png": "[encoded data removed]",
      "text/plain": [
       "<Figure size 864x576 with 1 Axes>"
      ]
     },
     "metadata": {
      "needs_background": "light"
     },
     "output_type": "display_data"
    }
   ],
   "source": [
    "#top 20 features \n",
    "plt.figure(figsize = (12,8))\n",
    "feat_importances = pd.Series(model.feature_importances_, index=X.columns)\n",
    "feat_importances.nlargest(10).plot(kind='barh')\n",
    "plt.show()"
   ]
  },
  {
   "cell_type": "markdown",
   "metadata": {},
   "source": [
    "# XGboost Regressor"
   ]
  },
  {
   "cell_type": "code",
   "execution_count": 17,
   "metadata": {},
   "outputs": [
    {
     "name": "stdout",
     "output_type": "stream",
     "text": [
      "0.9999999999994958\n",
      "0.9998633938266198\n"
     ]
    }
   ],
   "source": [
    "from xgboost import XGBRegressor\n",
    "xgbooster=XGBRegressor(max_depth=15)\n",
    "\n",
    "xgbooster.fit(X_train,y_train)\n",
    "\n",
    "y_pred=xgbooster.predict(X_test)\n",
    "\n",
    "train_score=xgbooster.score(X_train,y_train)\n",
    "print(train_score)\n",
    "\n",
    "test_score=xgbooster.score(X_test,y_test)\n",
    "print(test_score)\n"
   ]
  },
  {
   "cell_type": "code",
   "execution_count": 18,
   "metadata": {},
   "outputs": [
    {
     "name": "stdout",
     "output_type": "stream",
     "text": [
      "3.9582673666664214\n",
      "8.143897163844466\n"
     ]
    }
   ],
   "source": [
    "mae=m.mean_absolute_error(y_test,y_pred)\n",
    "print(mae)\n",
    "\n",
    "mse=np.sqrt(m.mean_squared_error(y_test,y_pred))\n",
    "print(mse)"
   ]
  },
  {
   "cell_type": "markdown",
   "metadata": {},
   "source": [
    "# Extra Tree Regressor"
   ]
  },
  {
   "cell_type": "code",
   "execution_count": 19,
   "metadata": {},
   "outputs": [
    {
     "data": {
      "text/plain": [
       "ExtraTreesRegressor()"
      ]
     },
     "execution_count": 19,
     "metadata": {},
     "output_type": "execute_result"
    }
   ],
   "source": [
    "from sklearn.ensemble import ExtraTreesRegressor\n",
    "selection=ExtraTreesRegressor()\n",
    "selection.fit(X_train,y_train)"
   ]
  },
  {
   "cell_type": "code",
   "execution_count": 20,
   "metadata": {
    "scrolled": true
   },
   "outputs": [
    {
     "name": "stdout",
     "output_type": "stream",
     "text": [
      "[7.77927406e-03 1.56971406e-03 6.91604903e-02 3.50018851e-02\n",
      " 5.42654454e-02 2.54224423e-06 4.19512525e-02 1.70784849e-02\n",
      " 1.00314915e-06 1.57289854e-05 2.06433250e-06 2.34196798e-06\n",
      " 3.79824645e-06 2.87361829e-06 1.66427272e-02 2.72086207e-02\n",
      " 1.40188497e-06 1.60278842e-02 3.49318751e-02 4.80847651e-02\n",
      " 1.04443617e-05 4.23499511e-06 1.89338191e-07 1.96241803e-06\n",
      " 7.40517744e-02 3.18547174e-02 7.21184220e-02 1.76819165e-06\n",
      " 5.25490106e-06 2.18920261e-06 6.91589055e-06 2.47920944e-02\n",
      " 1.32766150e-02 3.04449490e-02 1.10793193e-05 5.13344533e-06\n",
      " 4.82433298e-06 6.90817082e-06 4.44598508e-06 2.93442748e-06\n",
      " 3.00739854e-02 1.99627295e-02 2.40840466e-02 1.56616020e-02\n",
      " 1.46994151e-06 3.16693774e-06 2.39224985e-06 2.33750957e-06\n",
      " 2.42274165e-06 1.63032225e-06 2.19023709e-06 1.42223956e-06\n",
      " 3.35677920e-06 1.44519530e-06 1.70008073e-06 3.02799488e-06\n",
      " 4.04946141e-06 4.34699859e-02 3.84308895e-02 3.99126175e-02\n",
      " 2.62862955e-02 2.41008356e-02 3.91521330e-02 6.70610573e-07\n",
      " 6.57782386e-07 2.92741138e-06 2.46836938e-06 2.44184161e-06\n",
      " 1.94527474e-07 5.20565774e-07 8.62191803e-07 9.26498902e-06\n",
      " 3.69286357e-06 1.85705933e-06 1.04231757e-06 4.79744562e-06\n",
      " 2.46724615e-06 7.80111663e-06 2.92973162e-06 5.91698504e-06\n",
      " 1.68158626e-06 3.94251381e-02 1.08083057e-05 1.97334069e-06\n",
      " 2.44822746e-06 2.79485201e-06 9.42903885e-06 8.09288828e-06\n",
      " 4.29803583e-02]\n"
     ]
    }
   ],
   "source": [
    "print(selection.feature_importances_)"
   ]
  },
  {
   "cell_type": "code",
   "execution_count": 21,
   "metadata": {},
   "outputs": [
    {
     "data": {
      "image/png": "[encoded data removed]",
      "text/plain": [
       "<Figure size 864x576 with 1 Axes>"
      ]
     },
     "metadata": {
      "needs_background": "light"
     },
     "output_type": "display_data"
    }
   ],
   "source": [
    "#top 20 features \n",
    "plt.figure(figsize = (12,8))\n",
    "feat_importances = pd.Series(selection.feature_importances_, index=X.columns)\n",
    "feat_importances.nlargest(20).plot(kind='barh')\n",
    "plt.show()"
   ]
  },
  {
   "cell_type": "markdown",
   "metadata": {},
   "source": [
    "# Hyper parameter tuning using Randomized search CV"
   ]
  },
  {
   "cell_type": "code",
   "execution_count": 44,
   "metadata": {},
   "outputs": [
    {
     "name": "stdout",
     "output_type": "stream",
     "text": [
      "{'n_estimators': [200, 400, 600, 800, 1000, 1200, 1400, 1600, 1800, 2000], 'max_features': ['auto', 'sqrt'], 'max_depth': [10, 20, 30, 40, 50, 60, 70, 80, 90, 100, 110, None], 'min_samples_split': [2, 5, 10], 'min_samples_leaf': [1, 2, 4], 'bootstrap': [True, False]}\n"
     ]
    }
   ],
   "source": [
    "from sklearn.model_selection import RandomizedSearchCV\n",
    "# Number of trees in random forest\n",
    "n_estimators = [int(x) for x in np.linspace(start = 200, stop = 2000, num = 10)]\n",
    "# Number of features to consider at every split\n",
    "max_features = ['auto', 'sqrt']\n",
    "# Maximum number of levels in tree\n",
    "max_depth = [int(x) for x in np.linspace(10, 110, num = 11)]\n",
    "max_depth.append(None)\n",
    "# Minimum number of samples required to split a node\n",
    "min_samples_split = [2, 5, 10]\n",
    "# Minimum number of samples required at each leaf node\n",
    "min_samples_leaf = [1, 2, 4]\n",
    "# Method of selecting samples for training each tree\n",
    "bootstrap = [True, False]\n",
    "# Create the random grid\n",
    "random_grid = {'n_estimators': n_estimators,\n",
    "               'max_features': max_features,\n",
    "               'max_depth': max_depth,\n",
    "               'min_samples_split': min_samples_split,\n",
    "               'min_samples_leaf': min_samples_leaf,\n",
    "               'bootstrap': bootstrap}\n",
    "print(random_grid)"
   ]
  },
  {
   "cell_type": "code",
   "execution_count": 45,
   "metadata": {},
   "outputs": [
    {
     "name": "stdout",
     "output_type": "stream",
     "text": [
      "Fitting 3 folds for each of 100 candidates, totalling 300 fits\n"
     ]
    },
    {
     "data": {
      "text/plain": [
       "RandomizedSearchCV(cv=3, estimator=RandomForestRegressor(), n_iter=100,\n",
       "                   n_jobs=-1,\n",
       "                   param_distributions={'bootstrap': [True, False],\n",
       "                                        'max_depth': [10, 20, 30, 40, 50, 60,\n",
       "                                                      70, 80, 90, 100, 110,\n",
       "                                                      None],\n",
       "                                        'max_features': ['auto', 'sqrt'],\n",
       "                                        'min_samples_leaf': [1, 2, 4],\n",
       "                                        'min_samples_split': [2, 5, 10],\n",
       "                                        'n_estimators': [200, 400, 600, 800,\n",
       "                                                         1000, 1200, 1400, 1600,\n",
       "                                                         1800, 2000]},\n",
       "                   random_state=42, verbose=2)"
      ]
     },
     "execution_count": 45,
     "metadata": {},
     "output_type": "execute_result"
    }
   ],
   "source": [
    "# Use the random grid to search for best hyperparameters\n",
    "# First create the base model to tune\n",
    "rf = RandomForestRegressor()\n",
    "# Random search of parameters, using 3 fold cross validation, \n",
    "# search across 100 different combinations, and use all available cores\n",
    "rf_random = RandomizedSearchCV(estimator = rf, param_distributions = random_grid, n_iter = 100, cv = 3, verbose=2, random_state=42, n_jobs = -1)\n",
    "# Fit the random search model\n",
    "rf_random.fit(X_train,y_train)"
   ]
  },
  {
   "cell_type": "code",
   "execution_count": 46,
   "metadata": {},
   "outputs": [
    {
     "data": {
      "text/plain": [
       "{'n_estimators': 1800,\n",
       " 'min_samples_split': 2,\n",
       " 'min_samples_leaf': 2,\n",
       " 'max_features': 'auto',\n",
       " 'max_depth': None,\n",
       " 'bootstrap': True}"
      ]
     },
     "execution_count": 46,
     "metadata": {},
     "output_type": "execute_result"
    }
   ],
   "source": [
    "#best parameters\n",
    "rf_random.best_params_"
   ]
  },
  {
   "cell_type": "code",
   "execution_count": 47,
   "metadata": {},
   "outputs": [],
   "source": [
    "def evaluate(model, test_features, test_labels):\n",
    "    predictions = model.predict(test_features)\n",
    "    errors = abs(predictions - test_labels)\n",
    "    mape = 100 * np.mean(errors / test_labels)\n",
    "    accuracy = 100 - mape\n",
    "    print('Model Performance')\n",
    "    print('Average Error: {:0.4f} degrees.'.format(np.mean(errors)))\n",
    "    print('Accuracy = {:0.2f}%.'.format(accuracy))\n",
    "    print('mean_absolute_error:',mean_absolute_error(test_labels, predictions))\n",
    "    return accuracy"
   ]
  },
  {
   "cell_type": "code",
   "execution_count": 48,
   "metadata": {},
   "outputs": [
    {
     "name": "stdout",
     "output_type": "stream",
     "text": [
      "Model Performance\n",
      "Average Error: 0.5350 degrees.\n",
      "Accuracy = 99.97%.\n",
      "mean_absolute_error: 0.5350426771178519\n"
     ]
    }
   ],
   "source": [
    "base_model = RandomForestRegressor(n_estimators = 10, random_state = 42)\n",
    "base_model.fit(X_train, y_train)\n",
    "base_accuracy = evaluate(base_model, X_train, y_train)"
   ]
  },
  {
   "cell_type": "code",
   "execution_count": 49,
   "metadata": {},
   "outputs": [
    {
     "name": "stdout",
     "output_type": "stream",
     "text": [
      "Model Performance\n",
      "Average Error: 1.2062 degrees.\n",
      "Accuracy = 99.94%.\n",
      "mean_absolute_error: 1.2061660821192035\n"
     ]
    }
   ],
   "source": [
    "test_accuracy=evaluate(base_model,X_test,y_test)"
   ]
  },
  {
   "cell_type": "code",
   "execution_count": 50,
   "metadata": {},
   "outputs": [
    {
     "name": "stdout",
     "output_type": "stream",
     "text": [
      "Model Performance\n",
      "Average Error: 0.3410 degrees.\n",
      "Accuracy = 99.98%.\n",
      "mean_absolute_error: 0.3410421017323197\n"
     ]
    }
   ],
   "source": [
    "best_random = rf_random.best_estimator_\n",
    "random_accuracy = evaluate(best_random, X_train, y_train)"
   ]
  },
  {
   "cell_type": "code",
   "execution_count": 51,
   "metadata": {},
   "outputs": [
    {
     "name": "stdout",
     "output_type": "stream",
     "text": [
      "Model Performance\n",
      "Average Error: 0.9104 degrees.\n",
      "Accuracy = 99.95%.\n",
      "mean_absolute_error: 0.9104361734598916\n"
     ]
    }
   ],
   "source": [
    "best_random = rf_random.best_estimator_\n",
    "random_accuracy = evaluate(best_random, X_test, y_test)"
   ]
  },
  {
   "cell_type": "code",
   "execution_count": 52,
   "metadata": {},
   "outputs": [
    {
     "name": "stdout",
     "output_type": "stream",
     "text": [
      "Improvement of -0.02%.\n"
     ]
    }
   ],
   "source": [
    "print('Improvement of {:0.2f}%.'.format( 100 * (random_accuracy - base_accuracy) / base_accuracy))"
   ]
  },
  {
   "cell_type": "markdown",
   "metadata": {},
   "source": [
    "# Hyper parameter tuning using  Grid search CV"
   ]
  },
  {
   "cell_type": "code",
   "execution_count": 53,
   "metadata": {},
   "outputs": [],
   "source": [
    "from sklearn.model_selection import GridSearchCV\n",
    "# Create the parameter grid based on the results of random search \n",
    "param_grid = {\n",
    "    'bootstrap': [True],\n",
    "    'max_depth': [80, 90, 100, 110],\n",
    "    'max_features': [2, 3],\n",
    "    'min_samples_leaf': [3, 4, 5],\n",
    "    'min_samples_split': [8, 10, 12],\n",
    "    'n_estimators': [100, 200, 300, 1000]\n",
    "}\n",
    "# Create a based model\n",
    "rf = RandomForestRegressor()\n",
    "# Instantiate the grid search model\n",
    "grid_search = GridSearchCV(estimator = rf, param_grid = param_grid, \n",
    "                          cv = 3, n_jobs = -1, verbose = 2)"
   ]
  },
  {
   "cell_type": "code",
   "execution_count": 54,
   "metadata": {},
   "outputs": [
    {
     "name": "stdout",
     "output_type": "stream",
     "text": [
      "Fitting 3 folds for each of 288 candidates, totalling 864 fits\n",
      "Model Performance\n",
      "Average Error: 4.0715 degrees.\n",
      "Accuracy = 99.75%.\n",
      "mean_absolute_error: 4.071490775829728\n"
     ]
    }
   ],
   "source": [
    "# Fit the grid search to the data\n",
    "grid_search.fit(X_train, y_train)\n",
    "grid_search.best_params_\n",
    "{'bootstrap': True,\n",
    " 'max_depth': 80,\n",
    " 'max_features': 3,\n",
    " 'min_samples_leaf': 5,\n",
    " 'min_samples_split': 12,\n",
    " 'n_estimators': 100}\n",
    "best_grid = grid_search.best_estimator_\n",
    "grid_accuracy = evaluate(best_grid, X_train, y_train)"
   ]
  },
  {
   "cell_type": "code",
   "execution_count": 55,
   "metadata": {},
   "outputs": [
    {
     "name": "stdout",
     "output_type": "stream",
     "text": [
      "Model Performance\n",
      "Average Error: 6.2494 degrees.\n",
      "Accuracy = 99.61%.\n",
      "mean_absolute_error: 6.2493640014806395\n"
     ]
    }
   ],
   "source": [
    "test_acc=evaluate(best_grid,X_test,y_test)"
   ]
  },
  {
   "cell_type": "code",
   "execution_count": 56,
   "metadata": {},
   "outputs": [
    {
     "data": {
      "image/png": "[encoded data removed]",
      "text/plain": [
       "<Figure size 1080x1080 with 1 Axes>"
      ]
     },
     "metadata": {
      "needs_background": "light"
     },
     "output_type": "display_data"
    }
   ],
   "source": [
    "#top  features \n",
    "plt.figure(figsize = (15,15))\n",
    "feat_importances = pd.Series(best_grid.feature_importances_, index=X.columns)\n",
    "feat_importances.nlargest(89).plot(kind='barh')\n",
    "plt.show()"
   ]
  },
  {
   "cell_type": "code",
   "execution_count": 57,
   "metadata": {},
   "outputs": [
    {
     "name": "stdout",
     "output_type": "stream",
     "text": [
      "Variable: Low                  Importance: 0.05\n",
      "Variable: others_cr            Importance: 0.05\n",
      "Variable: Open                 Importance: 0.04\n",
      "Variable: High                 Importance: 0.04\n",
      "Variable: volume_adi           Importance: 0.04\n",
      "Variable: trend_sma_fast       Importance: 0.04\n",
      "Variable: trend_ema_fast       Importance: 0.04\n",
      "Variable: Unnamed: 0           Importance: 0.03\n",
      "Variable: Date                 Importance: 0.03\n",
      "Variable: volume_obv           Importance: 0.03\n",
      "Variable: volume_vwap          Importance: 0.03\n",
      "Variable: volatility_bbm       Importance: 0.03\n",
      "Variable: volatility_bbh       Importance: 0.03\n",
      "Variable: volatility_bbl       Importance: 0.03\n",
      "Variable: volatility_kcc       Importance: 0.03\n",
      "Variable: volatility_kch       Importance: 0.03\n",
      "Variable: volatility_kcl       Importance: 0.03\n",
      "Variable: volatility_dch       Importance: 0.03\n",
      "Variable: trend_sma_slow       Importance: 0.03\n",
      "Variable: trend_ema_slow       Importance: 0.03\n",
      "Variable: trend_ichimoku_conv  Importance: 0.03\n",
      "Variable: trend_ichimoku_a     Importance: 0.03\n",
      "Variable: trend_ichimoku_b     Importance: 0.03\n",
      "Variable: trend_visual_ichimoku_a Importance: 0.03\n",
      "Variable: momentum_kama        Importance: 0.03\n",
      "Variable: volume_nvi           Importance: 0.02\n",
      "Variable: volatility_dcl       Importance: 0.02\n",
      "Variable: volatility_dcm       Importance: 0.02\n",
      "Variable: trend_ichimoku_base  Importance: 0.02\n",
      "Variable: trend_visual_ichimoku_b Importance: 0.02\n",
      "Variable: trend_macd_signal    Importance: 0.01\n",
      "Variable: trend_psar_up        Importance: 0.01\n",
      "Variable: momentum_ao          Importance: 0.01\n",
      "Variable: Volume               Importance: 0.0\n",
      "Variable: volume_cmf           Importance: 0.0\n",
      "Variable: volume_fi            Importance: 0.0\n",
      "Variable: volume_mfi           Importance: 0.0\n",
      "Variable: volume_em            Importance: 0.0\n",
      "Variable: volume_sma_em        Importance: 0.0\n",
      "Variable: volume_vpt           Importance: 0.0\n",
      "Variable: volatility_atr       Importance: 0.0\n",
      "Variable: volatility_bbw       Importance: 0.0\n",
      "Variable: volatility_bbp       Importance: 0.0\n",
      "Variable: volatility_bbhi      Importance: 0.0\n",
      "Variable: volatility_bbli      Importance: 0.0\n",
      "Variable: volatility_kcw       Importance: 0.0\n",
      "Variable: volatility_kcp       Importance: 0.0\n",
      "Variable: volatility_kchi      Importance: 0.0\n",
      "Variable: volatility_kcli      Importance: 0.0\n",
      "Variable: volatility_dcw       Importance: 0.0\n",
      "Variable: volatility_dcp       Importance: 0.0\n",
      "Variable: volatility_ui        Importance: 0.0\n",
      "Variable: trend_macd           Importance: 0.0\n",
      "Variable: trend_macd_diff      Importance: 0.0\n",
      "Variable: trend_adx            Importance: 0.0\n",
      "Variable: trend_adx_pos        Importance: 0.0\n",
      "Variable: trend_adx_neg        Importance: 0.0\n",
      "Variable: trend_vortex_ind_pos Importance: 0.0\n",
      "Variable: trend_vortex_ind_neg Importance: 0.0\n",
      "Variable: trend_vortex_ind_diff Importance: 0.0\n",
      "Variable: trend_trix           Importance: 0.0\n",
      "Variable: trend_mass_index     Importance: 0.0\n",
      "Variable: trend_cci            Importance: 0.0\n",
      "Variable: trend_dpo            Importance: 0.0\n",
      "Variable: trend_kst            Importance: 0.0\n",
      "Variable: trend_kst_sig        Importance: 0.0\n",
      "Variable: trend_kst_diff       Importance: 0.0\n",
      "Variable: trend_aroon_up       Importance: 0.0\n",
      "Variable: trend_aroon_down     Importance: 0.0\n",
      "Variable: trend_aroon_ind      Importance: 0.0\n",
      "Variable: trend_psar_down      Importance: 0.0\n",
      "Variable: trend_psar_up_indicator Importance: 0.0\n",
      "Variable: trend_psar_down_indicator Importance: 0.0\n",
      "Variable: trend_stc            Importance: 0.0\n",
      "Variable: momentum_rsi         Importance: 0.0\n",
      "Variable: momentum_stoch_rsi   Importance: 0.0\n",
      "Variable: momentum_stoch_rsi_k Importance: 0.0\n",
      "Variable: momentum_stoch_rsi_d Importance: 0.0\n",
      "Variable: momentum_tsi         Importance: 0.0\n",
      "Variable: momentum_uo          Importance: 0.0\n",
      "Variable: momentum_stoch       Importance: 0.0\n",
      "Variable: momentum_stoch_signal Importance: 0.0\n",
      "Variable: momentum_wr          Importance: 0.0\n",
      "Variable: momentum_roc         Importance: 0.0\n",
      "Variable: momentum_ppo         Importance: 0.0\n",
      "Variable: momentum_ppo_signal  Importance: 0.0\n",
      "Variable: momentum_ppo_hist    Importance: 0.0\n",
      "Variable: others_dr            Importance: 0.0\n",
      "Variable: others_dlr           Importance: 0.0\n"
     ]
    }
   ],
   "source": [
    "# Get numerical feature importances\n",
    "importances = list(best_grid.feature_importances_)\n",
    "\n",
    "# List of tuples with variable and importance\n",
    "feature_importances = [(feature, round(importance, 2)) for feature, importance in zip(X.columns, importances)]\n",
    "\n",
    "# Sort the feature importances by most important first\n",
    "feature_importances = sorted(feature_importances, key = lambda x: x[1], reverse = True)\n",
    "\n",
    "# Print out the feature and importances \n",
    "[print('Variable: {:20} Importance: {}'.format(*pair)) for pair in feature_importances];"
   ]
  },
  {
   "cell_type": "code",
   "execution_count": null,
   "metadata": {},
   "outputs": [],
   "source": [
    " "
   ]
  }
 ],
 "metadata": {
  "kernelspec": {
   "display_name": "Python 3",
   "language": "python",
   "name": "python3"
  },
  "language_info": {
   "codemirror_mode": {
    "name": "ipython",
    "version": 3
   },
   "file_extension": ".py",
   "mimetype": "text/x-python",
   "name": "python",
   "nbconvert_exporter": "python",
   "pygments_lexer": "ipython3",
   "version": "3.8.5"
  }
 },
 "nbformat": 4,
 "nbformat_minor": 4
}

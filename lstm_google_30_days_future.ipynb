{
 "cells": [
  {
   "cell_type": "code",
   "execution_count": 1,
   "metadata": {},
   "outputs": [],
   "source": [
    "# Import modules and packages\n",
    "import numpy as np\n",
    "import pandas as pd\n",
    "from pandas_datareader import data as wb\n",
    "import matplotlib.pyplot as plt\n",
    "import datetime as dt\n",
    "from datetime import datetime\n",
    "\n",
    "from keras.callbacks import EarlyStopping, ReduceLROnPlateau, ModelCheckpoint, TensorBoard\n",
    "\n",
    "%matplotlib inline"
   ]
  },
  {
   "cell_type": "code",
   "execution_count": 54,
   "metadata": {},
   "outputs": [],
   "source": [
    "#importing dataset\n",
    "df = pd.read_csv('GOOG.csv')"
   ]
  },
  {
   "cell_type": "code",
   "execution_count": 3,
   "metadata": {},
   "outputs": [
    {
     "data": {
      "text/html": [
       "<div>\n",
       "<style scoped>\n",
       "    .dataframe tbody tr th:only-of-type {\n",
       "        vertical-align: middle;\n",
       "    }\n",
       "\n",
       "    .dataframe tbody tr th {\n",
       "        vertical-align: top;\n",
       "    }\n",
       "\n",
       "    .dataframe thead th {\n",
       "        text-align: right;\n",
       "    }\n",
       "</style>\n",
       "<table border=\"1\" class=\"dataframe\">\n",
       "  <thead>\n",
       "    <tr style=\"text-align: right;\">\n",
       "      <th></th>\n",
       "      <th>Date</th>\n",
       "      <th>Open</th>\n",
       "      <th>High</th>\n",
       "      <th>Low</th>\n",
       "      <th>Close</th>\n",
       "      <th>Adj Close</th>\n",
       "      <th>Volume</th>\n",
       "    </tr>\n",
       "  </thead>\n",
       "  <tbody>\n",
       "    <tr>\n",
       "      <th>0</th>\n",
       "      <td>2004-08-19</td>\n",
       "      <td>49.813286</td>\n",
       "      <td>51.835709</td>\n",
       "      <td>47.800831</td>\n",
       "      <td>49.982655</td>\n",
       "      <td>49.982655</td>\n",
       "      <td>44871300</td>\n",
       "    </tr>\n",
       "    <tr>\n",
       "      <th>1</th>\n",
       "      <td>2004-08-20</td>\n",
       "      <td>50.316402</td>\n",
       "      <td>54.336334</td>\n",
       "      <td>50.062355</td>\n",
       "      <td>53.952770</td>\n",
       "      <td>53.952770</td>\n",
       "      <td>22942800</td>\n",
       "    </tr>\n",
       "    <tr>\n",
       "      <th>2</th>\n",
       "      <td>2004-08-23</td>\n",
       "      <td>55.168217</td>\n",
       "      <td>56.528118</td>\n",
       "      <td>54.321388</td>\n",
       "      <td>54.495735</td>\n",
       "      <td>54.495735</td>\n",
       "      <td>18342800</td>\n",
       "    </tr>\n",
       "    <tr>\n",
       "      <th>3</th>\n",
       "      <td>2004-08-24</td>\n",
       "      <td>55.412300</td>\n",
       "      <td>55.591629</td>\n",
       "      <td>51.591621</td>\n",
       "      <td>52.239193</td>\n",
       "      <td>52.239193</td>\n",
       "      <td>15319700</td>\n",
       "    </tr>\n",
       "    <tr>\n",
       "      <th>4</th>\n",
       "      <td>2004-08-25</td>\n",
       "      <td>52.284027</td>\n",
       "      <td>53.798351</td>\n",
       "      <td>51.746044</td>\n",
       "      <td>52.802086</td>\n",
       "      <td>52.802086</td>\n",
       "      <td>9232100</td>\n",
       "    </tr>\n",
       "    <tr>\n",
       "      <th>5</th>\n",
       "      <td>2004-08-26</td>\n",
       "      <td>52.279045</td>\n",
       "      <td>53.773445</td>\n",
       "      <td>52.134586</td>\n",
       "      <td>53.753517</td>\n",
       "      <td>53.753517</td>\n",
       "      <td>7128600</td>\n",
       "    </tr>\n",
       "    <tr>\n",
       "      <th>6</th>\n",
       "      <td>2004-08-27</td>\n",
       "      <td>53.848164</td>\n",
       "      <td>54.107193</td>\n",
       "      <td>52.647663</td>\n",
       "      <td>52.876804</td>\n",
       "      <td>52.876804</td>\n",
       "      <td>6241200</td>\n",
       "    </tr>\n",
       "    <tr>\n",
       "      <th>7</th>\n",
       "      <td>2004-08-30</td>\n",
       "      <td>52.443428</td>\n",
       "      <td>52.548038</td>\n",
       "      <td>50.814533</td>\n",
       "      <td>50.814533</td>\n",
       "      <td>50.814533</td>\n",
       "      <td>5221400</td>\n",
       "    </tr>\n",
       "    <tr>\n",
       "      <th>8</th>\n",
       "      <td>2004-08-31</td>\n",
       "      <td>50.958992</td>\n",
       "      <td>51.661362</td>\n",
       "      <td>50.889256</td>\n",
       "      <td>50.993862</td>\n",
       "      <td>50.993862</td>\n",
       "      <td>4941200</td>\n",
       "    </tr>\n",
       "    <tr>\n",
       "      <th>9</th>\n",
       "      <td>2004-09-01</td>\n",
       "      <td>51.158245</td>\n",
       "      <td>51.292744</td>\n",
       "      <td>49.648903</td>\n",
       "      <td>49.937820</td>\n",
       "      <td>49.937820</td>\n",
       "      <td>9181600</td>\n",
       "    </tr>\n",
       "  </tbody>\n",
       "</table>\n",
       "</div>"
      ],
      "text/plain": [
       "         Date       Open       High        Low      Close  Adj Close    Volume\n",
       "0  2004-08-19  49.813286  51.835709  47.800831  49.982655  49.982655  44871300\n",
       "1  2004-08-20  50.316402  54.336334  50.062355  53.952770  53.952770  22942800\n",
       "2  2004-08-23  55.168217  56.528118  54.321388  54.495735  54.495735  18342800\n",
       "3  2004-08-24  55.412300  55.591629  51.591621  52.239193  52.239193  15319700\n",
       "4  2004-08-25  52.284027  53.798351  51.746044  52.802086  52.802086   9232100\n",
       "5  2004-08-26  52.279045  53.773445  52.134586  53.753517  53.753517   7128600\n",
       "6  2004-08-27  53.848164  54.107193  52.647663  52.876804  52.876804   6241200\n",
       "7  2004-08-30  52.443428  52.548038  50.814533  50.814533  50.814533   5221400\n",
       "8  2004-08-31  50.958992  51.661362  50.889256  50.993862  50.993862   4941200\n",
       "9  2004-09-01  51.158245  51.292744  49.648903  49.937820  49.937820   9181600"
      ]
     },
     "execution_count": 3,
     "metadata": {},
     "output_type": "execute_result"
    }
   ],
   "source": [
    "df.head(10)"
   ]
  },
  {
   "cell_type": "code",
   "execution_count": 4,
   "metadata": {},
   "outputs": [],
   "source": [
    "cols = list(df)[1:6]"
   ]
  },
  {
   "cell_type": "code",
   "execution_count": 5,
   "metadata": {},
   "outputs": [
    {
     "data": {
      "text/plain": [
       "['Open', 'High', 'Low', 'Close', 'Adj Close']"
      ]
     },
     "execution_count": 5,
     "metadata": {},
     "output_type": "execute_result"
    }
   ],
   "source": [
    "cols"
   ]
  },
  {
   "cell_type": "code",
   "execution_count": 6,
   "metadata": {},
   "outputs": [],
   "source": [
    "datelist = list(df['Date'])\n"
   ]
  },
  {
   "cell_type": "code",
   "execution_count": 7,
   "metadata": {},
   "outputs": [],
   "source": [
    "#datelist"
   ]
  },
  {
   "cell_type": "code",
   "execution_count": 8,
   "metadata": {},
   "outputs": [],
   "source": [
    "datelist = [dt.datetime.strptime(date, '%Y-%m-%d').date()  for date in datelist]"
   ]
  },
  {
   "cell_type": "code",
   "execution_count": 9,
   "metadata": {},
   "outputs": [],
   "source": [
    "#datelist"
   ]
  },
  {
   "cell_type": "code",
   "execution_count": 10,
   "metadata": {},
   "outputs": [],
   "source": [
    "training_set=df.iloc[:,1:6].values"
   ]
  },
  {
   "cell_type": "code",
   "execution_count": 11,
   "metadata": {
    "scrolled": true
   },
   "outputs": [
    {
     "data": {
      "text/plain": [
       "array([[  49.813286,   51.835709,   47.800831,   49.982655,   49.982655],\n",
       "       [  50.316402,   54.336334,   50.062355,   53.95277 ,   53.95277 ],\n",
       "       [  55.168217,   56.528118,   54.321388,   54.495735,   54.495735],\n",
       "       ...,\n",
       "       [1523.130005, 1535.329956, 1498.      , 1513.640015, 1513.640015],\n",
       "       [1500.      , 1518.689941, 1486.310059, 1518.      , 1518.      ],\n",
       "       [1521.619995, 1523.439941, 1498.420044, 1515.550049, 1515.550049]])"
      ]
     },
     "execution_count": 11,
     "metadata": {},
     "output_type": "execute_result"
    }
   ],
   "source": [
    "training_set"
   ]
  },
  {
   "cell_type": "code",
   "execution_count": 12,
   "metadata": {},
   "outputs": [
    {
     "name": "stdout",
     "output_type": "stream",
     "text": [
      "Shape of training set == (4006, 5).\n"
     ]
    }
   ],
   "source": [
    "print('Shape of training set == {}.'.format(training_set.shape))"
   ]
  },
  {
   "cell_type": "code",
   "execution_count": 13,
   "metadata": {},
   "outputs": [
    {
     "data": {
      "text/plain": [
       "array([[-1.27195197],\n",
       "       [-1.27058974],\n",
       "       [-1.25745309],\n",
       "       ...,\n",
       "       [ 2.71716347],\n",
       "       [ 2.65453724],\n",
       "       [ 2.713075  ]])"
      ]
     },
     "execution_count": 13,
     "metadata": {},
     "output_type": "execute_result"
    }
   ],
   "source": [
    "# Feature Scaling\n",
    "from sklearn.preprocessing import StandardScaler\n",
    "\n",
    "sc = StandardScaler()\n",
    "training_set_scaled = sc.fit_transform(training_set)\n",
    "\n",
    "sc_predict = StandardScaler()\n",
    "sc_predict.fit_transform(training_set[:, 0:1])"
   ]
  },
  {
   "cell_type": "code",
   "execution_count": 14,
   "metadata": {},
   "outputs": [
    {
     "data": {
      "text/plain": [
       "4006"
      ]
     },
     "execution_count": 14,
     "metadata": {},
     "output_type": "execute_result"
    }
   ],
   "source": [
    "len(training_set_scaled)"
   ]
  },
  {
   "cell_type": "code",
   "execution_count": 15,
   "metadata": {},
   "outputs": [
    {
     "data": {
      "text/plain": [
       "array([[-1.27195197, -1.26786213, -1.2745642 , -1.27028724, -1.27028724],\n",
       "       [-1.27058974, -1.26115415, -1.26838862, -1.2595499 , -1.2595499 ],\n",
       "       [-1.25745309, -1.25527464, -1.25675839, -1.25808143, -1.25808143],\n",
       "       ...,\n",
       "       [ 2.71716347,  2.71164316,  2.68552176,  2.68823148,  2.68823148],\n",
       "       [ 2.65453724,  2.66700596,  2.65359982,  2.70002324,  2.70002324],\n",
       "       [ 2.713075  ,  2.67974794,  2.68666878,  2.69339725,  2.69339725]])"
      ]
     },
     "execution_count": 15,
     "metadata": {},
     "output_type": "execute_result"
    }
   ],
   "source": [
    "training_set_scaled"
   ]
  },
  {
   "cell_type": "markdown",
   "metadata": {},
   "source": [
    "# 30 days and 90 days"
   ]
  },
  {
   "cell_type": "code",
   "execution_count": 16,
   "metadata": {},
   "outputs": [
    {
     "name": "stdout",
     "output_type": "stream",
     "text": [
      "X_train shape == (3887, 90, 4).\n",
      "y_train shape == (3887, 1).\n"
     ]
    }
   ],
   "source": [
    "# Creating a data structure with 90 timestamps and 1 output\n",
    "X_train = []\n",
    "y_train = []\n",
    "\n",
    "n_future = 30   # Number of days we want top predict into the future\n",
    "n_past = 90     # Number of past days we want to use to predict the future\n",
    "\n",
    "for i in range(n_past, len(training_set_scaled) - n_future +1):\n",
    "    X_train.append(training_set_scaled[i - n_past:i, 0:training_set.shape[1] - 1])\n",
    "    y_train.append(training_set_scaled[i + n_future - 1:i + n_future, 0])\n",
    "\n",
    "X_train, y_train = np.array(X_train), np.array(y_train)\n",
    "\n",
    "print('X_train shape == {}.'.format(X_train.shape))\n",
    "print('y_train shape == {}.'.format(y_train.shape))"
   ]
  },
  {
   "cell_type": "code",
   "execution_count": 17,
   "metadata": {},
   "outputs": [],
   "source": [
    "#training_set_scaled[i - n_past:i, 0:training_set.shape[1] - 1]"
   ]
  },
  {
   "cell_type": "code",
   "execution_count": 18,
   "metadata": {},
   "outputs": [
    {
     "data": {
      "text/plain": [
       "array([2.713075])"
      ]
     },
     "execution_count": 18,
     "metadata": {},
     "output_type": "execute_result"
    }
   ],
   "source": [
    "training_set_scaled[i + n_future - 1:i + n_future, 0]"
   ]
  },
  {
   "cell_type": "markdown",
   "metadata": {},
   "source": [
    "# creating model"
   ]
  },
  {
   "cell_type": "code",
   "execution_count": 19,
   "metadata": {},
   "outputs": [],
   "source": [
    "# Import Libraries and packages from Keras\n",
    "from keras.models import Sequential\n",
    "from keras.layers import Dense\n",
    "from keras.layers import LSTM\n",
    "from keras.layers import Dropout\n",
    "from keras.optimizers import Adam"
   ]
  },
  {
   "cell_type": "code",
   "execution_count": 20,
   "metadata": {},
   "outputs": [],
   "source": [
    "# Initializing the Neural Network based on LSTM\n",
    "model = Sequential()\n",
    "\n",
    "# Adding 1st LSTM layer\n",
    "model.add(LSTM(units=64, return_sequences=True, input_shape=(n_past, training_set.shape[1]-1)))\n",
    "\n",
    "# Adding 2nd LSTM layer\n",
    "model.add(LSTM(units=10, return_sequences=False))\n",
    "\n",
    "# Adding Dropout\n",
    "model.add(Dropout(0.25))\n",
    "\n",
    "# Output layer\n",
    "model.add(Dense(units=1, activation='linear'))\n",
    "\n",
    "# Compiling the Neural Network\n",
    "model.compile(optimizer = Adam(learning_rate=0.01), loss='mean_squared_error')"
   ]
  },
  {
   "cell_type": "code",
   "execution_count": 25,
   "metadata": {},
   "outputs": [],
   "source": [
    "#history = model.fit(X_train, y_train, shuffle=True, epochs=30, validation_split=0.2, verbose=1, batch_size=256)"
   ]
  },
  {
   "cell_type": "code",
   "execution_count": 21,
   "metadata": {
    "scrolled": true
   },
   "outputs": [
    {
     "name": "stdout",
     "output_type": "stream",
     "text": [
      "Epoch 1/30\n",
      "28/28 [==============================] - 8s 93ms/step - loss: 0.1071 - val_loss: 0.5476\n",
      "\n",
      "Epoch 00001: val_loss improved from inf to 0.54756, saving model to weights.h5\n",
      "Epoch 2/30\n",
      "28/28 [==============================] - 1s 27ms/step - loss: 0.0246 - val_loss: 0.5685\n",
      "\n",
      "Epoch 00002: val_loss did not improve from 0.54756\n",
      "Epoch 3/30\n",
      "28/28 [==============================] - 1s 27ms/step - loss: 0.0246 - val_loss: 0.3341\n",
      "\n",
      "Epoch 00003: val_loss improved from 0.54756 to 0.33410, saving model to weights.h5\n",
      "Epoch 4/30\n",
      "28/28 [==============================] - 1s 27ms/step - loss: 0.0208 - val_loss: 0.2942\n",
      "\n",
      "Epoch 00004: val_loss improved from 0.33410 to 0.29419, saving model to weights.h5\n",
      "Epoch 5/30\n",
      "28/28 [==============================] - 1s 28ms/step - loss: 0.0209 - val_loss: 0.3605\n",
      "\n",
      "Epoch 00005: val_loss did not improve from 0.29419\n",
      "Epoch 6/30\n",
      "28/28 [==============================] - 1s 27ms/step - loss: 0.0208 - val_loss: 0.2042\n",
      "\n",
      "Epoch 00006: val_loss improved from 0.29419 to 0.20418, saving model to weights.h5\n",
      "Epoch 7/30\n",
      "28/28 [==============================] - 1s 27ms/step - loss: 0.0201 - val_loss: 0.2117\n",
      "\n",
      "Epoch 00007: val_loss did not improve from 0.20418\n",
      "Epoch 8/30\n",
      "28/28 [==============================] - 1s 27ms/step - loss: 0.0191 - val_loss: 0.2443\n",
      "\n",
      "Epoch 00008: val_loss did not improve from 0.20418\n",
      "Epoch 9/30\n",
      "28/28 [==============================] - 1s 27ms/step - loss: 0.0178 - val_loss: 0.1584\n",
      "\n",
      "Epoch 00009: val_loss improved from 0.20418 to 0.15839, saving model to weights.h5\n",
      "Epoch 10/30\n",
      "28/28 [==============================] - 1s 27ms/step - loss: 0.0220 - val_loss: 0.3209\n",
      "\n",
      "Epoch 00010: val_loss did not improve from 0.15839\n",
      "Epoch 11/30\n",
      "28/28 [==============================] - 1s 26ms/step - loss: 0.0198 - val_loss: 0.1806\n",
      "\n",
      "Epoch 00011: val_loss did not improve from 0.15839\n",
      "Epoch 12/30\n",
      "28/28 [==============================] - 1s 27ms/step - loss: 0.0204 - val_loss: 0.1980\n",
      "\n",
      "Epoch 00012: val_loss did not improve from 0.15839\n",
      "Epoch 13/30\n",
      "28/28 [==============================] - 1s 27ms/step - loss: 0.0184 - val_loss: 0.1629\n",
      "\n",
      "Epoch 00013: val_loss did not improve from 0.15839\n",
      "Epoch 14/30\n",
      "28/28 [==============================] - 1s 27ms/step - loss: 0.0184 - val_loss: 0.3342\n",
      "\n",
      "Epoch 00014: val_loss did not improve from 0.15839\n",
      "Epoch 15/30\n",
      "28/28 [==============================] - 1s 27ms/step - loss: 0.0207 - val_loss: 0.1637\n",
      "\n",
      "Epoch 00015: val_loss did not improve from 0.15839\n",
      "Epoch 16/30\n",
      "28/28 [==============================] - 1s 27ms/step - loss: 0.0181 - val_loss: 0.1242\n",
      "\n",
      "Epoch 00016: val_loss improved from 0.15839 to 0.12420, saving model to weights.h5\n",
      "Epoch 17/30\n",
      "28/28 [==============================] - 1s 27ms/step - loss: 0.0190 - val_loss: 0.1794\n",
      "\n",
      "Epoch 00017: val_loss did not improve from 0.12420\n",
      "Epoch 18/30\n",
      "28/28 [==============================] - 1s 26ms/step - loss: 0.0204 - val_loss: 0.1643\n",
      "\n",
      "Epoch 00018: val_loss did not improve from 0.12420\n",
      "Epoch 19/30\n",
      "28/28 [==============================] - 1s 26ms/step - loss: 0.0181 - val_loss: 0.1340\n",
      "\n",
      "Epoch 00019: val_loss did not improve from 0.12420\n",
      "Epoch 20/30\n",
      "28/28 [==============================] - 1s 27ms/step - loss: 0.0180 - val_loss: 0.1389\n",
      "\n",
      "Epoch 00020: val_loss did not improve from 0.12420\n",
      "Epoch 21/30\n",
      "28/28 [==============================] - 1s 27ms/step - loss: 0.0191 - val_loss: 0.1975\n",
      "\n",
      "Epoch 00021: val_loss did not improve from 0.12420\n",
      "Epoch 22/30\n",
      "28/28 [==============================] - 1s 26ms/step - loss: 0.0202 - val_loss: 0.1858\n",
      "\n",
      "Epoch 00022: val_loss did not improve from 0.12420\n",
      "Epoch 23/30\n",
      "28/28 [==============================] - 1s 27ms/step - loss: 0.0172 - val_loss: 0.1226\n",
      "\n",
      "Epoch 00023: val_loss improved from 0.12420 to 0.12261, saving model to weights.h5\n",
      "Epoch 24/30\n",
      "28/28 [==============================] - 1s 27ms/step - loss: 0.0179 - val_loss: 0.1293\n",
      "\n",
      "Epoch 00024: val_loss did not improve from 0.12261\n",
      "Epoch 25/30\n",
      "28/28 [==============================] - 1s 27ms/step - loss: 0.0181 - val_loss: 0.1244\n",
      "\n",
      "Epoch 00025: val_loss did not improve from 0.12261\n",
      "Epoch 26/30\n",
      "28/28 [==============================] - 1s 27ms/step - loss: 0.0181 - val_loss: 0.1149\n",
      "\n",
      "Epoch 00026: val_loss improved from 0.12261 to 0.11485, saving model to weights.h5\n",
      "Epoch 27/30\n",
      "28/28 [==============================] - 1s 27ms/step - loss: 0.0186 - val_loss: 0.1486\n",
      "\n",
      "Epoch 00027: val_loss did not improve from 0.11485\n",
      "Epoch 28/30\n",
      "28/28 [==============================] - 1s 27ms/step - loss: 0.0185 - val_loss: 0.1643\n",
      "\n",
      "Epoch 00028: val_loss did not improve from 0.11485\n",
      "Epoch 29/30\n",
      "28/28 [==============================] - 1s 27ms/step - loss: 0.0173 - val_loss: 0.1927\n",
      "\n",
      "Epoch 00029: val_loss did not improve from 0.11485\n",
      "Epoch 30/30\n",
      "28/28 [==============================] - 1s 27ms/step - loss: 0.0180 - val_loss: 0.1422\n",
      "\n",
      "Epoch 00030: val_loss did not improve from 0.11485\n",
      "CPU times: user 22 s, sys: 3.98 s, total: 25.9 s\n",
      "Wall time: 31.7 s\n"
     ]
    }
   ],
   "source": [
    "%%time\n",
    "es = EarlyStopping(monitor='val_loss', min_delta=1e-10, patience=10, verbose=1)\n",
    "rlr = ReduceLROnPlateau(monitor='val_loss', factor=0.5, patience=10, verbose=1)\n",
    "mcp = ModelCheckpoint(filepath='weights.h5', monitor='val_loss', verbose=1, save_best_only=True, save_weights_only=True)\n",
    "\n",
    "tb = TensorBoard('logs')\n",
    "\n",
    "history = model.fit(X_train, y_train, shuffle=True, epochs=30, callbacks=[es, rlr, mcp, tb], validation_split=0.2, verbose=1, batch_size=112)"
   ]
  },
  {
   "cell_type": "code",
   "execution_count": 22,
   "metadata": {},
   "outputs": [
    {
     "data": {
      "image/png": "[encoded data removed]",
      "text/plain": [
       "<Figure size 864x288 with 1 Axes>"
      ]
     },
     "metadata": {
      "needs_background": "light"
     },
     "output_type": "display_data"
    }
   ],
   "source": [
    "#plotting the graphs for loss and validation loss\n",
    "fig, ax = plt.subplots(figsize=(12,4))\n",
    "\n",
    "plt.plot(history.history['loss'], color='red', label='LOSS')\n",
    "plt.plot(history.history['val_loss'], color='blue', label='VAL_LOSS')\n",
    "legend = ax.legend(loc='upper center', shadow=True)\n",
    "frame = legend.get_frame()\n",
    "frame.set_facecolor('0.90')"
   ]
  },
  {
   "cell_type": "code",
   "execution_count": 23,
   "metadata": {},
   "outputs": [],
   "source": [
    "# Generate list of sequence of days for predictions\n",
    "datelist_future = pd.date_range(datelist[-1], periods=n_future, freq='1d').tolist()\n",
    "\n",
    "'''\n",
    "Remeber, we have datelist_train from begining.\n",
    "'''\n",
    "\n",
    "# Convert Pandas Timestamp to Datetime object (for transformation) --> FUTURE\n",
    "datelist_future_ = []\n",
    "for this_timestamp in datelist_future:\n",
    "    datelist_future_.append(this_timestamp.date())"
   ]
  },
  {
   "cell_type": "code",
   "execution_count": 24,
   "metadata": {},
   "outputs": [],
   "source": [
    "# Perform predictions\n",
    "predictions_future = model.predict(X_train[-n_future:])\n",
    "\n",
    "predictions_train = model.predict(X_train[n_past:])"
   ]
  },
  {
   "cell_type": "code",
   "execution_count": 26,
   "metadata": {},
   "outputs": [],
   "source": [
    "#len(predictions_train)"
   ]
  },
  {
   "cell_type": "code",
   "execution_count": 28,
   "metadata": {},
   "outputs": [],
   "source": [
    "# Inverse the predictions to original measurements\n",
    "\n",
    "# ---> Special function: convert <datetime.date> to <Timestamp>\n",
    "def datetime_to_timestamp(x):\n",
    "    '''\n",
    "        x : a given datetime value (datetime.date)\n",
    "    '''\n",
    "    return datetime.strptime(x.strftime('%Y%m%d'), '%Y%m%d')\n",
    "\n",
    "\n",
    "y_pred_future = sc_predict.inverse_transform(predictions_future)\n",
    "y_pred_train = sc_predict.inverse_transform(predictions_train)\n",
    "\n",
    "PREDICTIONS_FUTURE = pd.DataFrame(y_pred_future, columns=['Open']).set_index(pd.Series(datelist_future))\n",
    "PREDICTION_TRAIN = pd.DataFrame(y_pred_train, columns=['Open']).set_index(pd.Series(datelist[2 * n_past + n_future -1:]))"
   ]
  },
  {
   "cell_type": "code",
   "execution_count": 31,
   "metadata": {},
   "outputs": [],
   "source": [
    "# Convert <datetime.date> to <Timestamp> for PREDCITION_TRAIN\n",
    "PREDICTION_TRAIN.index = PREDICTION_TRAIN.index.to_series().apply(datetime_to_timestamp)\n",
    "PREDICTIONS_FUTURE.index = PREDICTIONS_FUTURE.index.to_series().apply(datetime_to_timestamp)"
   ]
  },
  {
   "cell_type": "code",
   "execution_count": 32,
   "metadata": {},
   "outputs": [
    {
     "data": {
      "text/html": [
       "<div>\n",
       "<style scoped>\n",
       "    .dataframe tbody tr th:only-of-type {\n",
       "        vertical-align: middle;\n",
       "    }\n",
       "\n",
       "    .dataframe tbody tr th {\n",
       "        vertical-align: top;\n",
       "    }\n",
       "\n",
       "    .dataframe thead th {\n",
       "        text-align: right;\n",
       "    }\n",
       "</style>\n",
       "<table border=\"1\" class=\"dataframe\">\n",
       "  <thead>\n",
       "    <tr style=\"text-align: right;\">\n",
       "      <th></th>\n",
       "      <th>Open</th>\n",
       "    </tr>\n",
       "  </thead>\n",
       "  <tbody>\n",
       "    <tr>\n",
       "      <th>2020-07-17</th>\n",
       "      <td>1120.538574</td>\n",
       "    </tr>\n",
       "    <tr>\n",
       "      <th>2020-07-18</th>\n",
       "      <td>1121.744019</td>\n",
       "    </tr>\n",
       "    <tr>\n",
       "      <th>2020-07-19</th>\n",
       "      <td>1124.628418</td>\n",
       "    </tr>\n",
       "    <tr>\n",
       "      <th>2020-07-20</th>\n",
       "      <td>1122.682983</td>\n",
       "    </tr>\n",
       "    <tr>\n",
       "      <th>2020-07-21</th>\n",
       "      <td>1131.996216</td>\n",
       "    </tr>\n",
       "    <tr>\n",
       "      <th>2020-07-22</th>\n",
       "      <td>1137.469971</td>\n",
       "    </tr>\n",
       "    <tr>\n",
       "      <th>2020-07-23</th>\n",
       "      <td>1139.250610</td>\n",
       "    </tr>\n",
       "    <tr>\n",
       "      <th>2020-07-24</th>\n",
       "      <td>1138.559937</td>\n",
       "    </tr>\n",
       "    <tr>\n",
       "      <th>2020-07-25</th>\n",
       "      <td>1140.923218</td>\n",
       "    </tr>\n",
       "    <tr>\n",
       "      <th>2020-07-26</th>\n",
       "      <td>1142.557129</td>\n",
       "    </tr>\n",
       "    <tr>\n",
       "      <th>2020-07-27</th>\n",
       "      <td>1145.051392</td>\n",
       "    </tr>\n",
       "    <tr>\n",
       "      <th>2020-07-28</th>\n",
       "      <td>1148.639160</td>\n",
       "    </tr>\n",
       "    <tr>\n",
       "      <th>2020-07-29</th>\n",
       "      <td>1151.573853</td>\n",
       "    </tr>\n",
       "    <tr>\n",
       "      <th>2020-07-30</th>\n",
       "      <td>1152.631348</td>\n",
       "    </tr>\n",
       "    <tr>\n",
       "      <th>2020-07-31</th>\n",
       "      <td>1149.579956</td>\n",
       "    </tr>\n",
       "    <tr>\n",
       "      <th>2020-08-01</th>\n",
       "      <td>1146.170288</td>\n",
       "    </tr>\n",
       "    <tr>\n",
       "      <th>2020-08-02</th>\n",
       "      <td>1145.426270</td>\n",
       "    </tr>\n",
       "    <tr>\n",
       "      <th>2020-08-03</th>\n",
       "      <td>1146.532227</td>\n",
       "    </tr>\n",
       "    <tr>\n",
       "      <th>2020-08-04</th>\n",
       "      <td>1148.451660</td>\n",
       "    </tr>\n",
       "    <tr>\n",
       "      <th>2020-08-05</th>\n",
       "      <td>1152.034180</td>\n",
       "    </tr>\n",
       "    <tr>\n",
       "      <th>2020-08-06</th>\n",
       "      <td>1154.830444</td>\n",
       "    </tr>\n",
       "    <tr>\n",
       "      <th>2020-08-07</th>\n",
       "      <td>1156.326660</td>\n",
       "    </tr>\n",
       "    <tr>\n",
       "      <th>2020-08-08</th>\n",
       "      <td>1158.700562</td>\n",
       "    </tr>\n",
       "    <tr>\n",
       "      <th>2020-08-09</th>\n",
       "      <td>1158.575317</td>\n",
       "    </tr>\n",
       "    <tr>\n",
       "      <th>2020-08-10</th>\n",
       "      <td>1158.301880</td>\n",
       "    </tr>\n",
       "    <tr>\n",
       "      <th>2020-08-11</th>\n",
       "      <td>1159.005493</td>\n",
       "    </tr>\n",
       "    <tr>\n",
       "      <th>2020-08-12</th>\n",
       "      <td>1159.734497</td>\n",
       "    </tr>\n",
       "    <tr>\n",
       "      <th>2020-08-13</th>\n",
       "      <td>1160.665161</td>\n",
       "    </tr>\n",
       "    <tr>\n",
       "      <th>2020-08-14</th>\n",
       "      <td>1161.771240</td>\n",
       "    </tr>\n",
       "    <tr>\n",
       "      <th>2020-08-15</th>\n",
       "      <td>1160.838745</td>\n",
       "    </tr>\n",
       "  </tbody>\n",
       "</table>\n",
       "</div>"
      ],
      "text/plain": [
       "                   Open\n",
       "2020-07-17  1120.538574\n",
       "2020-07-18  1121.744019\n",
       "2020-07-19  1124.628418\n",
       "2020-07-20  1122.682983\n",
       "2020-07-21  1131.996216\n",
       "2020-07-22  1137.469971\n",
       "2020-07-23  1139.250610\n",
       "2020-07-24  1138.559937\n",
       "2020-07-25  1140.923218\n",
       "2020-07-26  1142.557129\n",
       "2020-07-27  1145.051392\n",
       "2020-07-28  1148.639160\n",
       "2020-07-29  1151.573853\n",
       "2020-07-30  1152.631348\n",
       "2020-07-31  1149.579956\n",
       "2020-08-01  1146.170288\n",
       "2020-08-02  1145.426270\n",
       "2020-08-03  1146.532227\n",
       "2020-08-04  1148.451660\n",
       "2020-08-05  1152.034180\n",
       "2020-08-06  1154.830444\n",
       "2020-08-07  1156.326660\n",
       "2020-08-08  1158.700562\n",
       "2020-08-09  1158.575317\n",
       "2020-08-10  1158.301880\n",
       "2020-08-11  1159.005493\n",
       "2020-08-12  1159.734497\n",
       "2020-08-13  1160.665161\n",
       "2020-08-14  1161.771240\n",
       "2020-08-15  1160.838745"
      ]
     },
     "execution_count": 32,
     "metadata": {},
     "output_type": "execute_result"
    }
   ],
   "source": [
    "PREDICTIONS_FUTURE"
   ]
  },
  {
   "cell_type": "code",
   "execution_count": 35,
   "metadata": {},
   "outputs": [
    {
     "ename": "TypeError",
     "evalue": "slice indices must be integers or None or have an __index__ method",
     "output_type": "error",
     "traceback": [
      "\u001b[0;31m---------------------------------------------------------------------------\u001b[0m",
      "\u001b[0;31mTypeError\u001b[0m                                 Traceback (most recent call last)",
      "\u001b[0;32m<ipython-input-35-4a4675300b04>\u001b[0m in \u001b[0;36m<module>\u001b[0;34m\u001b[0m\n\u001b[1;32m      9\u001b[0m \u001b[0mplt\u001b[0m\u001b[0;34m.\u001b[0m\u001b[0mplot\u001b[0m\u001b[0;34m(\u001b[0m\u001b[0mPREDICTIONS_FUTURE\u001b[0m\u001b[0;34m.\u001b[0m\u001b[0mindex\u001b[0m\u001b[0;34m,\u001b[0m \u001b[0mPREDICTIONS_FUTURE\u001b[0m\u001b[0;34m[\u001b[0m\u001b[0;34m'Open'\u001b[0m\u001b[0;34m]\u001b[0m\u001b[0;34m,\u001b[0m \u001b[0mcolor\u001b[0m\u001b[0;34m=\u001b[0m\u001b[0;34m'r'\u001b[0m\u001b[0;34m,\u001b[0m \u001b[0mlabel\u001b[0m\u001b[0;34m=\u001b[0m\u001b[0;34m'Predicted Stock Price'\u001b[0m\u001b[0;34m)\u001b[0m\u001b[0;34m\u001b[0m\u001b[0;34m\u001b[0m\u001b[0m\n\u001b[1;32m     10\u001b[0m \u001b[0mplt\u001b[0m\u001b[0;34m.\u001b[0m\u001b[0mplot\u001b[0m\u001b[0;34m(\u001b[0m\u001b[0mPREDICTION_TRAIN\u001b[0m\u001b[0;34m[\u001b[0m\u001b[0mSTART_DATE_FOR_PLOTTING\u001b[0m\u001b[0;34m:\u001b[0m\u001b[0;34m]\u001b[0m\u001b[0;34m.\u001b[0m\u001b[0mindex\u001b[0m\u001b[0;34m,\u001b[0m \u001b[0mPREDICTION_TRAIN\u001b[0m\u001b[0;34m[\u001b[0m\u001b[0mSTART_DATE_FOR_PLOTTING\u001b[0m\u001b[0;34m:\u001b[0m\u001b[0;34m]\u001b[0m\u001b[0;34m[\u001b[0m\u001b[0;34m'Open'\u001b[0m\u001b[0;34m]\u001b[0m\u001b[0;34m,\u001b[0m \u001b[0mcolor\u001b[0m\u001b[0;34m=\u001b[0m\u001b[0;34m'orange'\u001b[0m\u001b[0;34m,\u001b[0m \u001b[0mlabel\u001b[0m\u001b[0;34m=\u001b[0m\u001b[0;34m'Training predictions'\u001b[0m\u001b[0;34m)\u001b[0m\u001b[0;34m\u001b[0m\u001b[0;34m\u001b[0m\u001b[0m\n\u001b[0;32m---> 11\u001b[0;31m \u001b[0mplt\u001b[0m\u001b[0;34m.\u001b[0m\u001b[0mplot\u001b[0m\u001b[0;34m(\u001b[0m\u001b[0mdf\u001b[0m\u001b[0;34m.\u001b[0m\u001b[0mloc\u001b[0m\u001b[0;34m[\u001b[0m\u001b[0mSTART_DATE_FOR_PLOTTING\u001b[0m\u001b[0;34m:\u001b[0m\u001b[0;34m]\u001b[0m\u001b[0;34m.\u001b[0m\u001b[0mindex\u001b[0m\u001b[0;34m,\u001b[0m \u001b[0mtraining_set\u001b[0m\u001b[0;34m[\u001b[0m\u001b[0mSTART_DATE_FOR_PLOTTING\u001b[0m\u001b[0;34m:\u001b[0m\u001b[0;34m]\u001b[0m\u001b[0;34m[\u001b[0m\u001b[0;34m'Open'\u001b[0m\u001b[0;34m]\u001b[0m\u001b[0;34m,\u001b[0m \u001b[0mcolor\u001b[0m\u001b[0;34m=\u001b[0m\u001b[0;34m'b'\u001b[0m\u001b[0;34m,\u001b[0m \u001b[0mlabel\u001b[0m\u001b[0;34m=\u001b[0m\u001b[0;34m'Actual Stock Price'\u001b[0m\u001b[0;34m)\u001b[0m\u001b[0;34m\u001b[0m\u001b[0;34m\u001b[0m\u001b[0m\n\u001b[0m\u001b[1;32m     12\u001b[0m \u001b[0;34m\u001b[0m\u001b[0m\n\u001b[1;32m     13\u001b[0m \u001b[0mplt\u001b[0m\u001b[0;34m.\u001b[0m\u001b[0maxvline\u001b[0m\u001b[0;34m(\u001b[0m\u001b[0mx\u001b[0m \u001b[0;34m=\u001b[0m \u001b[0mmin\u001b[0m\u001b[0;34m(\u001b[0m\u001b[0mPREDICTIONS_FUTURE\u001b[0m\u001b[0;34m.\u001b[0m\u001b[0mindex\u001b[0m\u001b[0;34m)\u001b[0m\u001b[0;34m,\u001b[0m \u001b[0mcolor\u001b[0m\u001b[0;34m=\u001b[0m\u001b[0;34m'green'\u001b[0m\u001b[0;34m,\u001b[0m \u001b[0mlinewidth\u001b[0m\u001b[0;34m=\u001b[0m\u001b[0;36m2\u001b[0m\u001b[0;34m,\u001b[0m \u001b[0mlinestyle\u001b[0m\u001b[0;34m=\u001b[0m\u001b[0;34m'--'\u001b[0m\u001b[0;34m)\u001b[0m\u001b[0;34m\u001b[0m\u001b[0;34m\u001b[0m\u001b[0m\n",
      "\u001b[0;31mTypeError\u001b[0m: slice indices must be integers or None or have an __index__ method"
     ]
    },
    {
     "data": {
      "image/png": "[encoded data removed]",
      "text/plain": [
       "<Figure size 1008x360 with 1 Axes>"
      ]
     },
     "metadata": {
      "needs_background": "light"
     },
     "output_type": "display_data"
    }
   ],
   "source": [
    "# Set plot size \n",
    "from pylab import rcParams\n",
    "import matplotlib.pyplot as plt\n",
    "rcParams['figure.figsize'] = 14, 5\n",
    "\n",
    "# Plot parameters\n",
    "START_DATE_FOR_PLOTTING = '2012-06-01'\n",
    "\n",
    "plt.plot(PREDICTIONS_FUTURE.index, PREDICTIONS_FUTURE['Open'], color='r', label='Predicted Stock Price')\n",
    "plt.plot(PREDICTION_TRAIN[START_DATE_FOR_PLOTTING:].index, PREDICTION_TRAIN[START_DATE_FOR_PLOTTING:]['Open'], color='orange', label='Training predictions')\n",
    "plt.plot(df.loc[START_DATE_FOR_PLOTTING:].index, training_set[START_DATE_FOR_PLOTTING:]['Open'], color='b', label='Actual Stock Price')\n",
    "\n",
    "plt.axvline(x = min(PREDICTIONS_FUTURE.index), color='green', linewidth=2, linestyle='--')\n",
    "\n",
    "plt.grid(which='major', color='#cccccc', alpha=0.5)\n",
    "\n",
    "plt.legend(shadow=True)\n",
    "plt.title('Predcitions and Acutal Stock Prices',family='sans-serif', fontsize=12)\n",
    "plt.xlabel('Timeline', family='Arial', fontsize=10)\n",
    "plt.ylabel('Stock Price Value', family='Arial', fontsize=10)\n",
    "plt.xticks(rotation=45, fontsize=8)\n",
    "plt.show()"
   ]
  },
  {
   "cell_type": "markdown",
   "metadata": {},
   "source": [
    "# Hyperparameter tuning with different splits and batch sizes"
   ]
  },
  {
   "cell_type": "markdown",
   "metadata": {},
   "source": [
    "# split size 70-30"
   ]
  },
  {
   "cell_type": "code",
   "execution_count": 39,
   "metadata": {},
   "outputs": [
    {
     "name": "stdout",
     "output_type": "stream",
     "text": [
      "Epoch 1/30\n",
      "25/25 [==============================] - 2s 69ms/step - loss: 0.0121 - val_loss: 0.1512\n",
      "\n",
      "Epoch 00001: val_loss improved from inf to 0.15116, saving model to weights.h5\n",
      "Epoch 2/30\n",
      "25/25 [==============================] - 1s 29ms/step - loss: 0.0122 - val_loss: 0.1541\n",
      "\n",
      "Epoch 00002: val_loss did not improve from 0.15116\n",
      "Epoch 3/30\n",
      "25/25 [==============================] - 1s 29ms/step - loss: 0.0130 - val_loss: 0.1530\n",
      "\n",
      "Epoch 00003: val_loss did not improve from 0.15116\n",
      "Epoch 4/30\n",
      "25/25 [==============================] - 1s 30ms/step - loss: 0.0128 - val_loss: 0.1497\n",
      "\n",
      "Epoch 00004: val_loss improved from 0.15116 to 0.14974, saving model to weights.h5\n",
      "Epoch 5/30\n",
      "25/25 [==============================] - 1s 29ms/step - loss: 0.0120 - val_loss: 0.1672\n",
      "\n",
      "Epoch 00005: val_loss did not improve from 0.14974\n",
      "Epoch 6/30\n",
      "25/25 [==============================] - 1s 29ms/step - loss: 0.0127 - val_loss: 0.1897\n",
      "\n",
      "Epoch 00006: val_loss did not improve from 0.14974\n",
      "Epoch 7/30\n",
      "25/25 [==============================] - 1s 29ms/step - loss: 0.0124 - val_loss: 0.1835\n",
      "\n",
      "Epoch 00007: val_loss did not improve from 0.14974\n",
      "Epoch 8/30\n",
      "25/25 [==============================] - 1s 29ms/step - loss: 0.0126 - val_loss: 0.1576\n",
      "\n",
      "Epoch 00008: val_loss did not improve from 0.14974\n",
      "Epoch 9/30\n",
      "25/25 [==============================] - 1s 29ms/step - loss: 0.0122 - val_loss: 0.1591\n",
      "\n",
      "Epoch 00009: val_loss did not improve from 0.14974\n",
      "Epoch 10/30\n",
      "25/25 [==============================] - 1s 30ms/step - loss: 0.0124 - val_loss: 0.1739\n",
      "\n",
      "Epoch 00010: val_loss did not improve from 0.14974\n",
      "Epoch 11/30\n",
      "25/25 [==============================] - 1s 30ms/step - loss: 0.0116 - val_loss: 0.1856\n",
      "\n",
      "Epoch 00011: val_loss did not improve from 0.14974\n",
      "Epoch 12/30\n",
      "25/25 [==============================] - 1s 29ms/step - loss: 0.0126 - val_loss: 0.1633\n",
      "\n",
      "Epoch 00012: val_loss did not improve from 0.14974\n",
      "Epoch 13/30\n",
      "25/25 [==============================] - 1s 29ms/step - loss: 0.0127 - val_loss: 0.1712\n",
      "\n",
      "Epoch 00013: val_loss did not improve from 0.14974\n",
      "Epoch 14/30\n",
      "25/25 [==============================] - 1s 29ms/step - loss: 0.0119 - val_loss: 0.1844\n",
      "\n",
      "Epoch 00014: ReduceLROnPlateau reducing learning rate to 0.0024999999441206455.\n",
      "\n",
      "Epoch 00014: val_loss did not improve from 0.14974\n",
      "Epoch 00014: early stopping\n",
      "CPU times: user 8.92 s, sys: 1.19 s, total: 10.1 s\n",
      "Wall time: 12.6 s\n"
     ]
    }
   ],
   "source": [
    "%%time\n",
    "es = EarlyStopping(monitor='val_loss', min_delta=1e-10, patience=10, verbose=1)\n",
    "rlr = ReduceLROnPlateau(monitor='val_loss', factor=0.5, patience=10, verbose=1)\n",
    "mcp = ModelCheckpoint(filepath='weights.h5', monitor='val_loss', verbose=1, save_best_only=True, save_weights_only=True)\n",
    "\n",
    "tb = TensorBoard('logs2')\n",
    "\n",
    "history = model.fit(X_train, y_train, shuffle=True, epochs=30, callbacks=[es, rlr, mcp, tb], validation_split=0.3, verbose=1, batch_size=112)"
   ]
  },
  {
   "cell_type": "code",
   "execution_count": 41,
   "metadata": {},
   "outputs": [
    {
     "data": {
      "image/png": "[encoded data removed]",
      "text/plain": [
       "<Figure size 864x576 with 1 Axes>"
      ]
     },
     "metadata": {
      "needs_background": "light"
     },
     "output_type": "display_data"
    }
   ],
   "source": [
    "#plotting the graphs for loss and validation loss\n",
    "fig, ax = plt.subplots(figsize=(12,8))\n",
    "\n",
    "plt.plot(history.history['loss'], color='red', label='LOSS')\n",
    "plt.plot(history.history['val_loss'], color='blue', label='VAL_LOSS')\n",
    "legend = ax.legend(loc='upper center', shadow=True)\n",
    "frame = legend.get_frame()\n",
    "frame.set_facecolor('0.90')"
   ]
  },
  {
   "cell_type": "markdown",
   "metadata": {},
   "source": [
    "# split size 60-40"
   ]
  },
  {
   "cell_type": "code",
   "execution_count": 42,
   "metadata": {},
   "outputs": [
    {
     "name": "stdout",
     "output_type": "stream",
     "text": [
      "Epoch 1/100\n",
      "21/21 [==============================] - 2s 81ms/step - loss: 0.0089 - val_loss: 0.1624\n",
      "\n",
      "Epoch 00001: val_loss improved from inf to 0.16242, saving model to weights.h5\n",
      "Epoch 2/100\n",
      "21/21 [==============================] - 1s 33ms/step - loss: 0.0087 - val_loss: 0.1689\n",
      "\n",
      "Epoch 00002: val_loss did not improve from 0.16242\n",
      "Epoch 3/100\n",
      "21/21 [==============================] - 1s 34ms/step - loss: 0.0086 - val_loss: 0.1805\n",
      "\n",
      "Epoch 00003: val_loss did not improve from 0.16242\n",
      "Epoch 4/100\n",
      "21/21 [==============================] - 1s 33ms/step - loss: 0.0087 - val_loss: 0.1795\n",
      "\n",
      "Epoch 00004: val_loss did not improve from 0.16242\n",
      "Epoch 5/100\n",
      "21/21 [==============================] - 1s 32ms/step - loss: 0.0083 - val_loss: 0.1827\n",
      "\n",
      "Epoch 00005: val_loss did not improve from 0.16242\n",
      "Epoch 6/100\n",
      "21/21 [==============================] - 1s 33ms/step - loss: 0.0088 - val_loss: 0.1845\n",
      "\n",
      "Epoch 00006: val_loss did not improve from 0.16242\n",
      "Epoch 7/100\n",
      "21/21 [==============================] - 1s 33ms/step - loss: 0.0087 - val_loss: 0.1993\n",
      "\n",
      "Epoch 00007: val_loss did not improve from 0.16242\n",
      "Epoch 8/100\n",
      "21/21 [==============================] - 1s 33ms/step - loss: 0.0088 - val_loss: 0.2261\n",
      "\n",
      "Epoch 00008: val_loss did not improve from 0.16242\n",
      "Epoch 9/100\n",
      "21/21 [==============================] - 1s 32ms/step - loss: 0.0085 - val_loss: 0.2318\n",
      "\n",
      "Epoch 00009: val_loss did not improve from 0.16242\n",
      "Epoch 10/100\n",
      "21/21 [==============================] - 1s 32ms/step - loss: 0.0087 - val_loss: 0.2306\n",
      "\n",
      "Epoch 00010: val_loss did not improve from 0.16242\n",
      "Epoch 11/100\n",
      "21/21 [==============================] - 1s 34ms/step - loss: 0.0082 - val_loss: 0.2543\n",
      "\n",
      "Epoch 00011: ReduceLROnPlateau reducing learning rate to 0.0012499999720603228.\n",
      "\n",
      "Epoch 00011: val_loss did not improve from 0.16242\n",
      "Epoch 00011: early stopping\n",
      "CPU times: user 6.9 s, sys: 1.05 s, total: 7.94 s\n",
      "Wall time: 9.75 s\n"
     ]
    }
   ],
   "source": [
    "%%time\n",
    "es = EarlyStopping(monitor='val_loss', min_delta=1e-10, patience=10, verbose=1)\n",
    "rlr = ReduceLROnPlateau(monitor='val_loss', factor=0.5, patience=10, verbose=1)\n",
    "mcp = ModelCheckpoint(filepath='weights.h5', monitor='val_loss', verbose=1, save_best_only=True, save_weights_only=True)\n",
    "\n",
    "tb = TensorBoard('logs2')\n",
    "\n",
    "history = model.fit(X_train, y_train, shuffle=True, epochs=100, callbacks=[es, rlr, mcp, tb], validation_split=0.4, verbose=1, batch_size=112)"
   ]
  },
  {
   "cell_type": "code",
   "execution_count": 43,
   "metadata": {},
   "outputs": [
    {
     "data": {
      "image/png": "[encoded data removed]",
      "text/plain": [
       "<Figure size 864x576 with 1 Axes>"
      ]
     },
     "metadata": {
      "needs_background": "light"
     },
     "output_type": "display_data"
    }
   ],
   "source": [
    "#plotting the graphs for loss and validation loss\n",
    "fig, ax = plt.subplots(figsize=(12,8))\n",
    "\n",
    "plt.plot(history.history['loss'], color='red', label='LOSS')\n",
    "plt.plot(history.history['val_loss'], color='blue', label='VAL_LOSS')\n",
    "legend = ax.legend(loc='upper center', shadow=True)\n",
    "frame = legend.get_frame()\n",
    "frame.set_facecolor('0.90')"
   ]
  },
  {
   "cell_type": "markdown",
   "metadata": {},
   "source": [
    "# split size 90-10"
   ]
  },
  {
   "cell_type": "code",
   "execution_count": 44,
   "metadata": {},
   "outputs": [
    {
     "name": "stdout",
     "output_type": "stream",
     "text": [
      "Epoch 1/100\n",
      "32/32 [==============================] - 2s 57ms/step - loss: 0.0395 - val_loss: 0.1866\n",
      "\n",
      "Epoch 00001: val_loss improved from inf to 0.18655, saving model to weights.h5\n",
      "Epoch 2/100\n",
      "32/32 [==============================] - 1s 25ms/step - loss: 0.0360 - val_loss: 0.2592\n",
      "\n",
      "Epoch 00002: val_loss did not improve from 0.18655\n",
      "Epoch 3/100\n",
      "32/32 [==============================] - 1s 25ms/step - loss: 0.0373 - val_loss: 0.1979\n",
      "\n",
      "Epoch 00003: val_loss did not improve from 0.18655\n",
      "Epoch 4/100\n",
      "32/32 [==============================] - 1s 25ms/step - loss: 0.0341 - val_loss: 0.2239\n",
      "\n",
      "Epoch 00004: val_loss did not improve from 0.18655\n",
      "Epoch 5/100\n",
      "32/32 [==============================] - 1s 25ms/step - loss: 0.0353 - val_loss: 0.2001\n",
      "\n",
      "Epoch 00005: val_loss did not improve from 0.18655\n",
      "Epoch 6/100\n",
      "32/32 [==============================] - 1s 25ms/step - loss: 0.0326 - val_loss: 0.2174\n",
      "\n",
      "Epoch 00006: val_loss did not improve from 0.18655\n",
      "Epoch 7/100\n",
      "32/32 [==============================] - 1s 25ms/step - loss: 0.0320 - val_loss: 0.2255\n",
      "\n",
      "Epoch 00007: val_loss did not improve from 0.18655\n",
      "Epoch 8/100\n",
      "32/32 [==============================] - 1s 24ms/step - loss: 0.0327 - val_loss: 0.2010\n",
      "\n",
      "Epoch 00008: val_loss did not improve from 0.18655\n",
      "Epoch 9/100\n",
      "32/32 [==============================] - 1s 24ms/step - loss: 0.0321 - val_loss: 0.2127\n",
      "\n",
      "Epoch 00009: val_loss did not improve from 0.18655\n",
      "Epoch 10/100\n",
      "32/32 [==============================] - 1s 25ms/step - loss: 0.0307 - val_loss: 0.2424\n",
      "\n",
      "Epoch 00010: val_loss did not improve from 0.18655\n",
      "Epoch 11/100\n",
      "32/32 [==============================] - 1s 25ms/step - loss: 0.0313 - val_loss: 0.2059\n",
      "\n",
      "Epoch 00011: ReduceLROnPlateau reducing learning rate to 0.0006249999860301614.\n",
      "\n",
      "Epoch 00011: val_loss did not improve from 0.18655\n",
      "Epoch 00011: early stopping\n",
      "CPU times: user 7.87 s, sys: 985 ms, total: 8.85 s\n",
      "Wall time: 10.9 s\n"
     ]
    }
   ],
   "source": [
    "%%time\n",
    "es = EarlyStopping(monitor='val_loss', min_delta=1e-10, patience=10, verbose=1)\n",
    "rlr = ReduceLROnPlateau(monitor='val_loss', factor=0.5, patience=10, verbose=1)\n",
    "mcp = ModelCheckpoint(filepath='weights.h5', monitor='val_loss', verbose=1, save_best_only=True, save_weights_only=True)\n",
    "\n",
    "tb = TensorBoard('logs2')\n",
    "\n",
    "history = model.fit(X_train, y_train, shuffle=True, epochs=100, callbacks=[es, rlr, mcp, tb], validation_split=0.1, verbose=1, batch_size=112)"
   ]
  },
  {
   "cell_type": "code",
   "execution_count": 45,
   "metadata": {},
   "outputs": [
    {
     "data": {
      "image/png": "[encoded data removed]",
      "text/plain": [
       "<Figure size 864x576 with 1 Axes>"
      ]
     },
     "metadata": {
      "needs_background": "light"
     },
     "output_type": "display_data"
    }
   ],
   "source": [
    "#plotting the graphs for loss and validation loss\n",
    "fig, ax = plt.subplots(figsize=(12,8))\n",
    "\n",
    "plt.plot(history.history['loss'], color='red', label='LOSS')\n",
    "plt.plot(history.history['val_loss'], color='blue', label='VAL_LOSS')\n",
    "legend = ax.legend(loc='upper center', shadow=True)\n",
    "frame = legend.get_frame()\n",
    "frame.set_facecolor('0.90')"
   ]
  },
  {
   "cell_type": "markdown",
   "metadata": {},
   "source": [
    "# batch size 256"
   ]
  },
  {
   "cell_type": "code",
   "execution_count": 46,
   "metadata": {},
   "outputs": [
    {
     "name": "stdout",
     "output_type": "stream",
     "text": [
      "Epoch 1/100\n",
      "14/14 [==============================] - 1s 105ms/step - loss: 0.0329 - val_loss: 0.1820\n",
      "\n",
      "Epoch 00001: val_loss improved from inf to 0.18198, saving model to weights.h5\n",
      "Epoch 2/100\n",
      "14/14 [==============================] - 0s 30ms/step - loss: 0.0302 - val_loss: 0.2120\n",
      "\n",
      "Epoch 00002: val_loss did not improve from 0.18198\n",
      "Epoch 3/100\n",
      "14/14 [==============================] - 0s 30ms/step - loss: 0.0295 - val_loss: 0.2137\n",
      "\n",
      "Epoch 00003: val_loss did not improve from 0.18198\n",
      "Epoch 4/100\n",
      "14/14 [==============================] - 0s 31ms/step - loss: 0.0299 - val_loss: 0.2161\n",
      "\n",
      "Epoch 00004: val_loss did not improve from 0.18198\n",
      "Epoch 5/100\n",
      "14/14 [==============================] - 0s 30ms/step - loss: 0.0294 - val_loss: 0.1941\n",
      "\n",
      "Epoch 00005: val_loss did not improve from 0.18198\n",
      "Epoch 6/100\n",
      "14/14 [==============================] - 0s 30ms/step - loss: 0.0325 - val_loss: 0.2062\n",
      "\n",
      "Epoch 00006: val_loss did not improve from 0.18198\n",
      "Epoch 7/100\n",
      "14/14 [==============================] - 0s 31ms/step - loss: 0.0288 - val_loss: 0.2038\n",
      "\n",
      "Epoch 00007: val_loss did not improve from 0.18198\n",
      "Epoch 8/100\n",
      "14/14 [==============================] - 0s 31ms/step - loss: 0.0315 - val_loss: 0.2120\n",
      "\n",
      "Epoch 00008: val_loss did not improve from 0.18198\n",
      "Epoch 9/100\n",
      "14/14 [==============================] - 0s 30ms/step - loss: 0.0315 - val_loss: 0.2073\n",
      "\n",
      "Epoch 00009: val_loss did not improve from 0.18198\n",
      "Epoch 10/100\n",
      "14/14 [==============================] - 0s 31ms/step - loss: 0.0307 - val_loss: 0.2149\n",
      "\n",
      "Epoch 00010: val_loss did not improve from 0.18198\n",
      "Epoch 11/100\n",
      "14/14 [==============================] - 0s 30ms/step - loss: 0.0309 - val_loss: 0.2309\n",
      "\n",
      "Epoch 00011: ReduceLROnPlateau reducing learning rate to 0.0003124999930150807.\n",
      "\n",
      "Epoch 00011: val_loss did not improve from 0.18198\n",
      "Epoch 00011: early stopping\n",
      "CPU times: user 5.31 s, sys: 1.19 s, total: 6.5 s\n",
      "Wall time: 7.06 s\n"
     ]
    }
   ],
   "source": [
    "%%time\n",
    "es = EarlyStopping(monitor='val_loss', min_delta=1e-10, patience=10, verbose=1)\n",
    "rlr = ReduceLROnPlateau(monitor='val_loss', factor=0.5, patience=10, verbose=1)\n",
    "mcp = ModelCheckpoint(filepath='weights.h5', monitor='val_loss', verbose=1, save_best_only=True, save_weights_only=True)\n",
    "\n",
    "tb = TensorBoard('logs2')\n",
    "\n",
    "history = model.fit(X_train, y_train, shuffle=True, epochs=100, callbacks=[es, rlr, mcp, tb], validation_split=0.1, verbose=1, batch_size=256)"
   ]
  },
  {
   "cell_type": "code",
   "execution_count": 47,
   "metadata": {},
   "outputs": [
    {
     "data": {
      "image/png": "[encoded data removed]",
      "text/plain": [
       "<Figure size 864x576 with 1 Axes>"
      ]
     },
     "metadata": {
      "needs_background": "light"
     },
     "output_type": "display_data"
    }
   ],
   "source": [
    "#plotting the graphs for loss and validation loss\n",
    "fig, ax = plt.subplots(figsize=(12,8))\n",
    "\n",
    "plt.plot(history.history['loss'], color='red', label='LOSS')\n",
    "plt.plot(history.history['val_loss'], color='blue', label='VAL_LOSS')\n",
    "legend = ax.legend(loc='upper center', shadow=True)\n",
    "frame = legend.get_frame()\n",
    "frame.set_facecolor('0.90')"
   ]
  },
  {
   "cell_type": "markdown",
   "metadata": {},
   "source": [
    "#  split size 90-10 and batch size 12"
   ]
  },
  {
   "cell_type": "code",
   "execution_count": 48,
   "metadata": {},
   "outputs": [
    {
     "name": "stdout",
     "output_type": "stream",
     "text": [
      "Epoch 1/100\n",
      "292/292 [==============================] - 8s 26ms/step - loss: 0.0305 - val_loss: 0.1963\n",
      "\n",
      "Epoch 00001: val_loss improved from inf to 0.19631, saving model to weights.h5\n",
      "Epoch 2/100\n",
      "292/292 [==============================] - 7s 23ms/step - loss: 0.0285 - val_loss: 0.2493\n",
      "\n",
      "Epoch 00002: val_loss did not improve from 0.19631\n",
      "Epoch 3/100\n",
      "292/292 [==============================] - 7s 23ms/step - loss: 0.0302 - val_loss: 0.2366\n",
      "\n",
      "Epoch 00003: val_loss did not improve from 0.19631\n",
      "Epoch 4/100\n",
      "292/292 [==============================] - 7s 23ms/step - loss: 0.0286 - val_loss: 0.1892\n",
      "\n",
      "Epoch 00004: val_loss improved from 0.19631 to 0.18923, saving model to weights.h5\n",
      "Epoch 5/100\n",
      "292/292 [==============================] - 7s 23ms/step - loss: 0.0321 - val_loss: 0.1694\n",
      "\n",
      "Epoch 00005: val_loss improved from 0.18923 to 0.16942, saving model to weights.h5\n",
      "Epoch 6/100\n",
      "292/292 [==============================] - 7s 23ms/step - loss: 0.0298 - val_loss: 0.2283\n",
      "\n",
      "Epoch 00006: val_loss did not improve from 0.16942\n",
      "Epoch 7/100\n",
      "292/292 [==============================] - 7s 23ms/step - loss: 0.0315 - val_loss: 0.2001\n",
      "\n",
      "Epoch 00007: val_loss did not improve from 0.16942\n",
      "Epoch 8/100\n",
      "292/292 [==============================] - 7s 23ms/step - loss: 0.0312 - val_loss: 0.2113\n",
      "\n",
      "Epoch 00008: val_loss did not improve from 0.16942\n",
      "Epoch 9/100\n",
      "292/292 [==============================] - 7s 23ms/step - loss: 0.0281 - val_loss: 0.1959\n",
      "\n",
      "Epoch 00009: val_loss did not improve from 0.16942\n",
      "Epoch 10/100\n",
      "292/292 [==============================] - 7s 23ms/step - loss: 0.0292 - val_loss: 0.1989\n",
      "\n",
      "Epoch 00010: val_loss did not improve from 0.16942\n",
      "Epoch 11/100\n",
      "292/292 [==============================] - 7s 23ms/step - loss: 0.0295 - val_loss: 0.2236\n",
      "\n",
      "Epoch 00011: val_loss did not improve from 0.16942\n",
      "Epoch 12/100\n",
      "292/292 [==============================] - 7s 23ms/step - loss: 0.0301 - val_loss: 0.2359\n",
      "\n",
      "Epoch 00012: val_loss did not improve from 0.16942\n",
      "Epoch 13/100\n",
      "292/292 [==============================] - 7s 23ms/step - loss: 0.0303 - val_loss: 0.1683\n",
      "\n",
      "Epoch 00013: val_loss improved from 0.16942 to 0.16831, saving model to weights.h5\n",
      "Epoch 14/100\n",
      "292/292 [==============================] - 7s 23ms/step - loss: 0.0297 - val_loss: 0.1739\n",
      "\n",
      "Epoch 00014: val_loss did not improve from 0.16831\n",
      "Epoch 15/100\n",
      "292/292 [==============================] - 7s 23ms/step - loss: 0.0304 - val_loss: 0.2263\n",
      "\n",
      "Epoch 00015: val_loss did not improve from 0.16831\n",
      "Epoch 16/100\n",
      "292/292 [==============================] - 7s 23ms/step - loss: 0.0307 - val_loss: 0.2149\n",
      "\n",
      "Epoch 00016: val_loss did not improve from 0.16831\n",
      "Epoch 17/100\n",
      "292/292 [==============================] - 7s 23ms/step - loss: 0.0283 - val_loss: 0.1813\n",
      "\n",
      "Epoch 00017: val_loss did not improve from 0.16831\n",
      "Epoch 18/100\n",
      "292/292 [==============================] - 7s 23ms/step - loss: 0.0303 - val_loss: 0.2179\n",
      "\n",
      "Epoch 00018: val_loss did not improve from 0.16831\n",
      "Epoch 19/100\n",
      "292/292 [==============================] - 7s 23ms/step - loss: 0.0318 - val_loss: 0.1822\n",
      "\n",
      "Epoch 00019: val_loss did not improve from 0.16831\n",
      "Epoch 20/100\n",
      "292/292 [==============================] - 7s 23ms/step - loss: 0.0310 - val_loss: 0.1684\n",
      "\n",
      "Epoch 00020: val_loss did not improve from 0.16831\n",
      "Epoch 21/100\n",
      "292/292 [==============================] - 7s 23ms/step - loss: 0.0313 - val_loss: 0.1849\n",
      "\n",
      "Epoch 00021: val_loss did not improve from 0.16831\n",
      "Epoch 22/100\n",
      "292/292 [==============================] - 7s 23ms/step - loss: 0.0306 - val_loss: 0.1598\n",
      "\n",
      "Epoch 00022: val_loss improved from 0.16831 to 0.15983, saving model to weights.h5\n",
      "Epoch 23/100\n",
      "292/292 [==============================] - 7s 23ms/step - loss: 0.0294 - val_loss: 0.1900\n",
      "\n",
      "Epoch 00023: val_loss did not improve from 0.15983\n",
      "Epoch 24/100\n",
      "292/292 [==============================] - 7s 23ms/step - loss: 0.0296 - val_loss: 0.2045\n",
      "\n",
      "Epoch 00024: val_loss did not improve from 0.15983\n",
      "Epoch 25/100\n",
      "292/292 [==============================] - 7s 23ms/step - loss: 0.0300 - val_loss: 0.2319\n",
      "\n",
      "Epoch 00025: val_loss did not improve from 0.15983\n",
      "Epoch 26/100\n",
      "292/292 [==============================] - 7s 23ms/step - loss: 0.0287 - val_loss: 0.2111\n",
      "\n",
      "Epoch 00026: val_loss did not improve from 0.15983\n",
      "Epoch 27/100\n",
      "292/292 [==============================] - 7s 23ms/step - loss: 0.0300 - val_loss: 0.1967\n",
      "\n",
      "Epoch 00027: val_loss did not improve from 0.15983\n",
      "Epoch 28/100\n",
      "292/292 [==============================] - 7s 23ms/step - loss: 0.0297 - val_loss: 0.1960\n",
      "\n",
      "Epoch 00028: val_loss did not improve from 0.15983\n",
      "Epoch 29/100\n",
      "292/292 [==============================] - 7s 23ms/step - loss: 0.0281 - val_loss: 0.1814\n",
      "\n",
      "Epoch 00029: val_loss did not improve from 0.15983\n",
      "Epoch 30/100\n",
      "292/292 [==============================] - 7s 23ms/step - loss: 0.0289 - val_loss: 0.2454\n",
      "\n",
      "Epoch 00030: val_loss did not improve from 0.15983\n",
      "Epoch 31/100\n",
      "292/292 [==============================] - 7s 23ms/step - loss: 0.0283 - val_loss: 0.2634\n",
      "\n",
      "Epoch 00031: val_loss did not improve from 0.15983\n",
      "Epoch 32/100\n",
      "292/292 [==============================] - 7s 23ms/step - loss: 0.0303 - val_loss: 0.2529\n",
      "\n",
      "Epoch 00032: ReduceLROnPlateau reducing learning rate to 0.00015624999650754035.\n",
      "\n",
      "Epoch 00032: val_loss did not improve from 0.15983\n",
      "Epoch 00032: early stopping\n",
      "CPU times: user 2min 25s, sys: 6.32 s, total: 2min 32s\n",
      "Wall time: 3min 36s\n"
     ]
    }
   ],
   "source": [
    "%%time\n",
    "es = EarlyStopping(monitor='val_loss', min_delta=1e-10, patience=10, verbose=1)\n",
    "rlr = ReduceLROnPlateau(monitor='val_loss', factor=0.5, patience=10, verbose=1)\n",
    "mcp = ModelCheckpoint(filepath='weights.h5', monitor='val_loss', verbose=1, save_best_only=True, save_weights_only=True)\n",
    "\n",
    "tb = TensorBoard('logs2')\n",
    "\n",
    "history = model.fit(X_train, y_train, shuffle=True, epochs=100, callbacks=[es, rlr, mcp, tb], validation_split=0.1, verbose=1, batch_size=12)"
   ]
  },
  {
   "cell_type": "code",
   "execution_count": 53,
   "metadata": {},
   "outputs": [
    {
     "data": {
      "image/png": "[encoded data removed]",
      "text/plain": [
       "<Figure size 864x576 with 1 Axes>"
      ]
     },
     "metadata": {
      "needs_background": "light"
     },
     "output_type": "display_data"
    }
   ],
   "source": [
    "#plotting the graphs for loss and validation loss\n",
    "fig, ax = plt.subplots(figsize=(12,8))\n",
    "\n",
    "plt.plot(history.history['loss'], color='red', label='LOSS')\n",
    "plt.plot(history.history['val_loss'], color='blue', label='VAL_LOSS')\n",
    "legend = ax.legend(loc='upper center', shadow=True)\n",
    "frame = legend.get_frame()\n",
    "#frame.set_facecolor('0.90')"
   ]
  },
  {
   "cell_type": "code",
   "execution_count": null,
   "metadata": {},
   "outputs": [],
   "source": []
  }
 ],
 "metadata": {
  "kernelspec": {
   "display_name": "Python 3",
   "language": "python",
   "name": "python3"
  },
  "language_info": {
   "codemirror_mode": {
    "name": "ipython",
    "version": 3
   },
   "file_extension": ".py",
   "mimetype": "text/x-python",
   "name": "python",
   "nbconvert_exporter": "python",
   "pygments_lexer": "ipython3",
   "version": "3.8.5"
  }
 },
 "nbformat": 4,
 "nbformat_minor": 4
}
